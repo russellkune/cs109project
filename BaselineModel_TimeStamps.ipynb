{
 "cells": [
  {
   "cell_type": "code",
   "execution_count": 1,
   "metadata": {
    "collapsed": true
   },
   "outputs": [],
   "source": [
    "import numpy as np\n",
    "import matplotlib\n",
    "import matplotlib.pyplot as plt\n",
    "from mpl_toolkits.mplot3d import Axes3D\n",
    "import matplotlib.cm as cmx\n",
    "import matplotlib.colors as colors\n",
    "import pandas as pd\n",
    "from sklearn.linear_model import LogisticRegression as LogReg\n",
    "from sklearn.feature_extraction.text import CountVectorizer\n",
    "from sklearn.neighbors import KNeighborsClassifier as KNN\n",
    "from sklearn.decomposition import PCA\n",
    "from sklearn.feature_extraction.text import CountVectorizer\n",
    "from sklearn.neighbors import KNeighborsClassifier as KNN\n",
    "from sklearn.cluster import KMeans\n",
    "%matplotlib inline"
   ]
  },
  {
   "cell_type": "code",
   "execution_count": 2,
   "metadata": {
    "collapsed": true
   },
   "outputs": [],
   "source": [
    "reviews = pd.read_csv('Reviews.csv')\n",
    "unique_users = reviews.UserId.unique()\n",
    "unique_products = reviews.ProductId.unique()"
   ]
  },
  {
   "cell_type": "code",
   "execution_count": 45,
   "metadata": {
    "collapsed": false
   },
   "outputs": [
    {
     "name": "stderr",
     "output_type": "stream",
     "text": [
      "C:\\Users\\Catherine\\Anaconda2\\lib\\site-packages\\ipykernel\\__main__.py:6: SettingWithCopyWarning: \n",
      "A value is trying to be set on a copy of a slice from a DataFrame.\n",
      "Try using .loc[row_indexer,col_indexer] = value instead\n",
      "\n",
      "See the caveats in the documentation: http://pandas.pydata.org/pandas-docs/stable/indexing.html#indexing-view-versus-copy\n",
      "C:\\Users\\Catherine\\Anaconda2\\lib\\site-packages\\ipykernel\\__main__.py:7: SettingWithCopyWarning: \n",
      "A value is trying to be set on a copy of a slice from a DataFrame.\n",
      "Try using .loc[row_indexer,col_indexer] = value instead\n",
      "\n",
      "See the caveats in the documentation: http://pandas.pydata.org/pandas-docs/stable/indexing.html#indexing-view-versus-copy\n",
      "C:\\Users\\Catherine\\Anaconda2\\lib\\site-packages\\ipykernel\\__main__.py:8: SettingWithCopyWarning: \n",
      "A value is trying to be set on a copy of a slice from a DataFrame.\n",
      "Try using .loc[row_indexer,col_indexer] = value instead\n",
      "\n",
      "See the caveats in the documentation: http://pandas.pydata.org/pandas-docs/stable/indexing.html#indexing-view-versus-copy\n",
      "C:\\Users\\Catherine\\Anaconda2\\lib\\site-packages\\ipykernel\\__main__.py:9: SettingWithCopyWarning: \n",
      "A value is trying to be set on a copy of a slice from a DataFrame.\n",
      "Try using .loc[row_indexer,col_indexer] = value instead\n",
      "\n",
      "See the caveats in the documentation: http://pandas.pydata.org/pandas-docs/stable/indexing.html#indexing-view-versus-copy\n"
     ]
    },
    {
     "data": {
      "text/html": [
       "<div>\n",
       "<table border=\"1\" class=\"dataframe\">\n",
       "  <thead>\n",
       "    <tr style=\"text-align: right;\">\n",
       "      <th></th>\n",
       "      <th>Id</th>\n",
       "      <th>ProductId</th>\n",
       "      <th>UserId</th>\n",
       "      <th>ProfileName</th>\n",
       "      <th>HelpfulnessNumerator</th>\n",
       "      <th>HelpfulnessDenominator</th>\n",
       "      <th>Score</th>\n",
       "      <th>Time</th>\n",
       "      <th>Summary</th>\n",
       "      <th>Text</th>\n",
       "      <th>Year</th>\n",
       "      <th>Month</th>\n",
       "      <th>Day</th>\n",
       "      <th>DayofYear</th>\n",
       "    </tr>\n",
       "  </thead>\n",
       "  <tbody>\n",
       "    <tr>\n",
       "      <th>0</th>\n",
       "      <td>1</td>\n",
       "      <td>B001E4KFG0</td>\n",
       "      <td>A3SGXH7AUHU8GW</td>\n",
       "      <td>delmartian</td>\n",
       "      <td>1</td>\n",
       "      <td>1</td>\n",
       "      <td>5</td>\n",
       "      <td>1303862400</td>\n",
       "      <td>Good Quality Dog Food</td>\n",
       "      <td>I have bought several of the Vitality canned d...</td>\n",
       "      <td>2011</td>\n",
       "      <td>4</td>\n",
       "      <td>27</td>\n",
       "      <td>117</td>\n",
       "    </tr>\n",
       "    <tr>\n",
       "      <th>1</th>\n",
       "      <td>2</td>\n",
       "      <td>B00813GRG4</td>\n",
       "      <td>A1D87F6ZCVE5NK</td>\n",
       "      <td>dll pa</td>\n",
       "      <td>0</td>\n",
       "      <td>0</td>\n",
       "      <td>1</td>\n",
       "      <td>1346976000</td>\n",
       "      <td>Not as Advertised</td>\n",
       "      <td>Product arrived labeled as Jumbo Salted Peanut...</td>\n",
       "      <td>2012</td>\n",
       "      <td>9</td>\n",
       "      <td>7</td>\n",
       "      <td>251</td>\n",
       "    </tr>\n",
       "    <tr>\n",
       "      <th>2</th>\n",
       "      <td>3</td>\n",
       "      <td>B000LQOCH0</td>\n",
       "      <td>ABXLMWJIXXAIN</td>\n",
       "      <td>Natalia Corres \"Natalia Corres\"</td>\n",
       "      <td>1</td>\n",
       "      <td>1</td>\n",
       "      <td>4</td>\n",
       "      <td>1219017600</td>\n",
       "      <td>\"Delight\" says it all</td>\n",
       "      <td>This is a confection that has been around a fe...</td>\n",
       "      <td>2008</td>\n",
       "      <td>8</td>\n",
       "      <td>18</td>\n",
       "      <td>231</td>\n",
       "    </tr>\n",
       "    <tr>\n",
       "      <th>3</th>\n",
       "      <td>4</td>\n",
       "      <td>B000UA0QIQ</td>\n",
       "      <td>A395BORC6FGVXV</td>\n",
       "      <td>Karl</td>\n",
       "      <td>3</td>\n",
       "      <td>3</td>\n",
       "      <td>2</td>\n",
       "      <td>1307923200</td>\n",
       "      <td>Cough Medicine</td>\n",
       "      <td>If you are looking for the secret ingredient i...</td>\n",
       "      <td>2011</td>\n",
       "      <td>6</td>\n",
       "      <td>13</td>\n",
       "      <td>164</td>\n",
       "    </tr>\n",
       "    <tr>\n",
       "      <th>4</th>\n",
       "      <td>5</td>\n",
       "      <td>B006K2ZZ7K</td>\n",
       "      <td>A1UQRSCLF8GW1T</td>\n",
       "      <td>Michael D. Bigham \"M. Wassir\"</td>\n",
       "      <td>0</td>\n",
       "      <td>0</td>\n",
       "      <td>5</td>\n",
       "      <td>1350777600</td>\n",
       "      <td>Great taffy</td>\n",
       "      <td>Great taffy at a great price.  There was a wid...</td>\n",
       "      <td>2012</td>\n",
       "      <td>10</td>\n",
       "      <td>21</td>\n",
       "      <td>295</td>\n",
       "    </tr>\n",
       "  </tbody>\n",
       "</table>\n",
       "</div>"
      ],
      "text/plain": [
       "   Id   ProductId          UserId                      ProfileName  \\\n",
       "0   1  B001E4KFG0  A3SGXH7AUHU8GW                       delmartian   \n",
       "1   2  B00813GRG4  A1D87F6ZCVE5NK                           dll pa   \n",
       "2   3  B000LQOCH0   ABXLMWJIXXAIN  Natalia Corres \"Natalia Corres\"   \n",
       "3   4  B000UA0QIQ  A395BORC6FGVXV                             Karl   \n",
       "4   5  B006K2ZZ7K  A1UQRSCLF8GW1T    Michael D. Bigham \"M. Wassir\"   \n",
       "\n",
       "   HelpfulnessNumerator  HelpfulnessDenominator  Score        Time  \\\n",
       "0                     1                       1      5  1303862400   \n",
       "1                     0                       0      1  1346976000   \n",
       "2                     1                       1      4  1219017600   \n",
       "3                     3                       3      2  1307923200   \n",
       "4                     0                       0      5  1350777600   \n",
       "\n",
       "                 Summary                                               Text  \\\n",
       "0  Good Quality Dog Food  I have bought several of the Vitality canned d...   \n",
       "1      Not as Advertised  Product arrived labeled as Jumbo Salted Peanut...   \n",
       "2  \"Delight\" says it all  This is a confection that has been around a fe...   \n",
       "3         Cough Medicine  If you are looking for the secret ingredient i...   \n",
       "4            Great taffy  Great taffy at a great price.  There was a wid...   \n",
       "\n",
       "   Year  Month  Day  DayofYear  \n",
       "0  2011      4   27        117  \n",
       "1  2012      9    7        251  \n",
       "2  2008      8   18        231  \n",
       "3  2011      6   13        164  \n",
       "4  2012     10   21        295  "
      ]
     },
     "execution_count": 45,
     "metadata": {},
     "output_type": "execute_result"
    }
   ],
   "source": [
    "subset = reviews.ix[:10000,:]\n",
    "\n",
    "times = pd.to_datetime(subset['Time'], unit='s')\n",
    "\n",
    "# http://stackoverflow.com/questions/25146121/extracting-just-month-and-year-from-pandas-datetime-column-python\n",
    "subset['Year'] = pd.DatetimeIndex(times).year\n",
    "subset['Month'] = pd.DatetimeIndex(times).month\n",
    "subset['Day'] = pd.DatetimeIndex(times).day\n",
    "subset['DayofYear'] = pd.DatetimeIndex(times).dayofyear\n",
    "\n",
    "subset.head()"
   ]
  },
  {
   "cell_type": "code",
   "execution_count": null,
   "metadata": {
    "collapsed": false
   },
   "outputs": [],
   "source": []
  },
  {
   "cell_type": "code",
   "execution_count": 64,
   "metadata": {
    "collapsed": false
   },
   "outputs": [
    {
     "data": {
      "text/plain": [
       "<matplotlib.text.Text at 0x14ef47b8>"
      ]
     },
     "execution_count": 64,
     "metadata": {},
     "output_type": "execute_result"
    },
    {
     "data": {
      "image/png": "[encoded data removed]",
      "text/plain": [
       "<matplotlib.figure.Figure at 0x2b3407f0>"
      ]
     },
     "metadata": {},
     "output_type": "display_data"
    },
    {
     "data": {
      "image/png": "[encoded data removed]",
      "text/plain": [
       "<matplotlib.figure.Figure at 0x14ecc710>"
      ]
     },
     "metadata": {},
     "output_type": "display_data"
    }
   ],
   "source": [
    "# Explore how reviews and timestamp are related!\n",
    "\n",
    "avg_scores = []\n",
    "num_reviews = []\n",
    "proportion_good = []\n",
    "\n",
    "for day in range(1, 365):\n",
    "    scores = subset[subset['DayofYear'] == day]['Score']\n",
    "    avg_scores.append(np.mean(scores.values))\n",
    "    num_reviews.append(len(scores))\n",
    "    \n",
    "\n",
    "plt.figure(figsize=(20,10))\n",
    "plt.plot(range(1, 365), avg_scores)\n",
    "plt.title('Average Amazon Food ratings over the course of a year')\n",
    "plt.xlim([0, 366])\n",
    "plt.xlabel('Day of year')\n",
    "plt.ylabel('Average rating')\n",
    "\n",
    "plt.figure(figsize=(20,10))\n",
    "plt.plot(range(1, 365), num_reviews)\n",
    "plt.title('Number of Amazon Food reviews over the course of a year')\n",
    "plt.xlim([0, 366])\n",
    "plt.xlabel('Day of year')\n",
    "plt.ylabel('Number of reviews')\n"
   ]
  },
  {
   "cell_type": "markdown",
   "metadata": {},
   "source": [
    "## Baseline Model:\n",
    "- Simple Averaging: A simple baseline model is to use the average of all other scores of a particular product to predict how a user will rate the product. If there is no other data on the product we guess 3.\n",
    "- Content based recommendation: Given a product, recommend the most similar products based on content of user reviews and summaries for those products. "
   ]
  },
  {
   "cell_type": "markdown",
   "metadata": {},
   "source": [
    "### 1. Simple Averaging"
   ]
  },
  {
   "cell_type": "code",
   "execution_count": 5,
   "metadata": {
    "collapsed": true
   },
   "outputs": [],
   "source": [
    "#Uses average score to predict how a user will score, for the first 10000 observations\n",
    "def compute_baseline_error():\n",
    "    l1score = []\n",
    "    misclassified = []\n",
    "\n",
    "    for i in  range(10000):\n",
    "        correct = 0 \n",
    "        score = reviews.ix[i,:].Score\n",
    "        product = reviews.ix[i,:].ProductId\n",
    "        ID = reviews.ix[i,:].Id\n",
    "        other_reviews = reviews[(reviews.ProductId == product) & (reviews.Id != ID)].Score.values\n",
    "        if len(other_reviews) == 0:\n",
    "            guess = 3 \n",
    "        else:\n",
    "            guess = other_reviews.mean()\n",
    "        \n",
    "        offby = guess - score\n",
    "        if int(guess+0.5) == int(score):\n",
    "            correct = 1\n",
    "        \n",
    "        l1score.append(offby)\n",
    "        misclassified.append(correct)\n",
    "    return l1score,misclassified"
   ]
  },
  {
   "cell_type": "code",
   "execution_count": 6,
   "metadata": {
    "collapsed": false
   },
   "outputs": [
    {
     "name": "stdout",
     "output_type": "stream",
     "text": [
      "323.726979971\n"
     ]
    }
   ],
   "source": [
    "import time \n",
    "start = time.time()\n",
    "l,m = compute_baseline_error()\n",
    "end = time.time()\n",
    "print end - start"
   ]
  },
  {
   "cell_type": "code",
   "execution_count": 8,
   "metadata": {
    "collapsed": false
   },
   "outputs": [
    {
     "name": "stdout",
     "output_type": "stream",
     "text": [
      "Fraction Correctly Classified:  0.3287\n"
     ]
    }
   ],
   "source": [
    "print \"Fraction Correctly Classified: \", sum(m)/float(len(m))"
   ]
  },
  {
   "cell_type": "markdown",
   "metadata": {},
   "source": [
    "We can also relabel good (4,5) or bad (1,2,3) scores as 1 and 0 and see how well this does, guessing 1 if there's no data (justify later but people are probably more likely to give positive reviews than negative ones). "
   ]
  },
  {
   "cell_type": "code",
   "execution_count": null,
   "metadata": {
    "collapsed": true
   },
   "outputs": [],
   "source": [
    "def modified_baseline_error():\n",
    "    misclassified = []\n",
    "\n",
    "    for i in  range(10000):\n",
    "        correct = 0 \n",
    "        score = reviews.ix[i,:].Score\n",
    "        product = reviews.ix[i,:].ProductId\n",
    "        ID = reviews.ix[i,:].Id\n",
    "        other_reviews = reviews[(reviews.ProductId == product) & (reviews.Id != ID)].Score.values\n",
    "        if len(other_reviews) == 0:\n",
    "            guess = 5 \n",
    "        else:\n",
    "            guess = other_reviews.mean()\n",
    "        \n",
    "        if guess >= 3.5:\n",
    "            new_guess = 1\n",
    "        else:\n",
    "            new_guess = 0\n",
    "        if score >=3.5:\n",
    "            new_score = 1\n",
    "        else:\n",
    "            new_score = 0\n",
    "                \n",
    "        if new_guess == new_score:\n",
    "            misclassified.append(1)\n",
    "        else:\n",
    "            misclassified.append(0)\n",
    "    return misclassified"
   ]
  },
  {
   "cell_type": "code",
   "execution_count": 16,
   "metadata": {
    "collapsed": false
   },
   "outputs": [
    {
     "name": "stdout",
     "output_type": "stream",
     "text": [
      "312.308862925\n"
     ]
    }
   ],
   "source": [
    "import time \n",
    "start = time.time()\n",
    "m = modified_baseline_error()\n",
    "end = time.time()\n",
    "print end - start"
   ]
  },
  {
   "cell_type": "code",
   "execution_count": 20,
   "metadata": {
    "collapsed": false
   },
   "outputs": [
    {
     "name": "stdout",
     "output_type": "stream",
     "text": [
      "Fraction Correctly Classified:  0.7487\n"
     ]
    }
   ],
   "source": [
    "print 'Fraction Correctly Classified: ', sum(m)/float(len(m))"
   ]
  },
  {
   "cell_type": "markdown",
   "metadata": {},
   "source": [
    "So given a product is rated an average of 3.5 or above, there is a .75 chance that the user rates the product as 4 or 5. This can be modified to recommend the products with highest average rating to all users. "
   ]
  },
  {
   "cell_type": "markdown",
   "metadata": {},
   "source": [
    "### 2. Content Based Recommendation\n",
    "Given that a user is viewing/ purchased a particular item, recommend items that are very similar to that item based on the summary and content of reviews.\n",
    "- **Input**: Product ID (viewed/purchased item) , Similarity Matrix based on Cosine similarity score of Term Frequency Inverse Document Frequency Vectors\n",
    "- **Output**: List of Product IDs of Similar Products and associated similarity score"
   ]
  },
  {
   "cell_type": "code",
   "execution_count": 5,
   "metadata": {
    "collapsed": false
   },
   "outputs": [],
   "source": [
    "#Useful Packages\n",
    "from sklearn.feature_extraction.text import TfidfVectorizer\n",
    "from sklearn.metrics.pairwise import linear_kernel\n",
    "from scipy.spatial.distance import cosine\n",
    "from scipy.cluster.vq import vq,kmeans,whiten\n",
    "import time"
   ]
  },
  {
   "cell_type": "markdown",
   "metadata": {},
   "source": [
    "First, I created a new dataframe with unique products and their associated text by appending all reviews/ summaries associated with a particular product together. This is slow, so I only used the first 1000 products."
   ]
  },
  {
   "cell_type": "code",
   "execution_count": 8,
   "metadata": {
    "collapsed": false
   },
   "outputs": [
    {
     "name": "stdout",
     "output_type": "stream",
     "text": [
      "95.0920000076\n"
     ]
    }
   ],
   "source": [
    "#whole thing takes a long time(>30minutes), use first 1000 products\n",
    "start = time.time()\n",
    "unique_prod_reviews = map(lambda x: to_words(x),unique_products[0:1000])\n",
    "end = time.time()\n",
    "print end - start"
   ]
  },
  {
   "cell_type": "code",
   "execution_count": 9,
   "metadata": {
    "collapsed": false
   },
   "outputs": [
    {
     "data": {
      "text/html": [
       "<div>\n",
       "<table border=\"1\" class=\"dataframe\">\n",
       "  <thead>\n",
       "    <tr style=\"text-align: right;\">\n",
       "      <th></th>\n",
       "      <th>ProductId</th>\n",
       "      <th>Text</th>\n",
       "    </tr>\n",
       "  </thead>\n",
       "  <tbody>\n",
       "    <tr>\n",
       "      <th>0</th>\n",
       "      <td>B001E4KFG0</td>\n",
       "      <td>[I have bought several of the Vitality canned ...</td>\n",
       "    </tr>\n",
       "    <tr>\n",
       "      <th>1</th>\n",
       "      <td>B00813GRG4</td>\n",
       "      <td>[Product arrived labeled as Jumbo Salted Peanu...</td>\n",
       "    </tr>\n",
       "    <tr>\n",
       "      <th>2</th>\n",
       "      <td>B000LQOCH0</td>\n",
       "      <td>[This is a confection that has been around a f...</td>\n",
       "    </tr>\n",
       "    <tr>\n",
       "      <th>3</th>\n",
       "      <td>B000UA0QIQ</td>\n",
       "      <td>[If you are looking for the secret ingredient ...</td>\n",
       "    </tr>\n",
       "    <tr>\n",
       "      <th>4</th>\n",
       "      <td>B006K2ZZ7K</td>\n",
       "      <td>[Great taffy at a great price.  There was a wi...</td>\n",
       "    </tr>\n",
       "  </tbody>\n",
       "</table>\n",
       "</div>"
      ],
      "text/plain": [
       "    ProductId                                               Text\n",
       "0  B001E4KFG0  [I have bought several of the Vitality canned ...\n",
       "1  B00813GRG4  [Product arrived labeled as Jumbo Salted Peanu...\n",
       "2  B000LQOCH0  [This is a confection that has been around a f...\n",
       "3  B000UA0QIQ  [If you are looking for the secret ingredient ...\n",
       "4  B006K2ZZ7K  [Great taffy at a great price.  There was a wi..."
      ]
     },
     "execution_count": 9,
     "metadata": {},
     "output_type": "execute_result"
    }
   ],
   "source": [
    "product_df = pd.DataFrame()\n",
    "product_df['ProductId'] = unique_products[0:1000]\n",
    "product_df['Text'] = unique_prod_reviews\n",
    "product_df.head()"
   ]
  },
  {
   "cell_type": "markdown",
   "metadata": {},
   "source": [
    "Use SKLearn's implementation of TF-IDF to get a sparse vector for each item , then use linear-kernel to get cosine similary scores between items and store these in a 1000x1000 matrix"
   ]
  },
  {
   "cell_type": "code",
   "execution_count": 10,
   "metadata": {
    "collapsed": true
   },
   "outputs": [],
   "source": [
    "a = np.array(unique_prod_reviews)\n",
    "a = a.reshape(len(a),)\n",
    "tf = TfidfVectorizer(analyzer='word',ngram_range=(1, 3), min_df=0, stop_words='english')\n",
    "tfidf_matrix = tf.fit_transform(a)"
   ]
  },
  {
   "cell_type": "code",
   "execution_count": 11,
   "metadata": {
    "collapsed": false
   },
   "outputs": [
    {
     "data": {
      "text/plain": [
       "array([[  1.00000000e+00,   5.36110174e-03,   0.00000000e+00, ...,\n",
       "          8.28603989e-03,   5.19533133e-03,   5.02833995e-03],\n",
       "       [  5.36110174e-03,   1.00000000e+00,   0.00000000e+00, ...,\n",
       "          5.29899866e-03,   0.00000000e+00,   1.78627910e-03],\n",
       "       [  0.00000000e+00,   0.00000000e+00,   1.00000000e+00, ...,\n",
       "          0.00000000e+00,   0.00000000e+00,   0.00000000e+00],\n",
       "       ..., \n",
       "       [  8.28603989e-03,   5.29899866e-03,   0.00000000e+00, ...,\n",
       "          1.00000000e+00,   8.30201976e-03,   7.89411311e-04],\n",
       "       [  5.19533133e-03,   0.00000000e+00,   0.00000000e+00, ...,\n",
       "          8.30201976e-03,   1.00000000e+00,   4.70532436e-03],\n",
       "       [  5.02833995e-03,   1.78627910e-03,   0.00000000e+00, ...,\n",
       "          7.89411311e-04,   4.70532436e-03,   1.00000000e+00]])"
      ]
     },
     "execution_count": 11,
     "metadata": {},
     "output_type": "execute_result"
    }
   ],
   "source": [
    "tfidf_matrix.toarray()\n",
    "cosine_similarities = linear_kernel(tfidf_matrix, tfidf_matrix)\n",
    "cosine_similarities"
   ]
  },
  {
   "cell_type": "markdown",
   "metadata": {},
   "source": [
    "Above is the TF-IDF Matrix for the first 1000 products. Below I wrote a function to return 8 most similar items given a product ID and similarity matrix as input."
   ]
  },
  {
   "cell_type": "code",
   "execution_count": 19,
   "metadata": {
    "collapsed": true
   },
   "outputs": [],
   "source": [
    "#takes a product name in the unique products data and returns the 8 most similar products\n",
    "#input: Product ID, Product Dataframe, Similarity Matrix\n",
    "#output: Array of 8 nearest items in the database using cosine similarity\n",
    "\n",
    "def return_nearest(product,cosine_similarities,product_df):\n",
    "    idx = product_df[product_df.ProductId == product].index[0]\n",
    "    similar_indices = cosine_similarities[idx].argsort()[:-10:-1]\n",
    "    similar_items = [(cosine_similarities[idx][i], product_df['ProductId'][i]) for i in similar_indices]\n",
    "    return similar_items[1:]\n"
   ]
  },
  {
   "cell_type": "code",
   "execution_count": 31,
   "metadata": {
    "collapsed": false
   },
   "outputs": [
    {
     "data": {
      "text/plain": [
       "[(0.060071873611170931, 'B000CMFMG8'),\n",
       " (0.052140838382313696, 'B0047LRBX2'),\n",
       " (0.043432096349825311, 'B001EO6BCC'),\n",
       " (0.037325003722012799, 'B000G6RPMY'),\n",
       " (0.026276191344016604, 'B001FA1L7U'),\n",
       " (0.025318462964514555, 'B004AVYUOW'),\n",
       " (0.025057186536542934, 'B001HOUGFC'),\n",
       " (0.023818763987623219, 'B000YT5DBS')]"
      ]
     },
     "execution_count": 31,
     "metadata": {},
     "output_type": "execute_result"
    }
   ],
   "source": [
    "return_nearest('B00813GRG4',cosine_similarities,product_df)"
   ]
  },
  {
   "cell_type": "markdown",
   "metadata": {},
   "source": [
    "- Searching the product IDs on Amazon, the input product is a brand of peanut, and most of the recommended items are different types of peanuts. The downside of this approach is that the items recommended are too similar to the product that the user viewed/purchased, so it is unlikely that the recommender will generate much revenue that the companies would not have already received. \n",
    "- For the simple averaging recommender, very highly rated items are recommended, but they aren't related to what the user is viewing. "
   ]
  },
  {
   "cell_type": "markdown",
   "metadata": {
    "collapsed": true
   },
   "source": [
    "### 3. Collaborative Filtering"
   ]
  },
  {
   "cell_type": "code",
   "execution_count": 12,
   "metadata": {
    "collapsed": false
   },
   "outputs": [
    {
     "name": "stdout",
     "output_type": "stream",
     "text": [
      "Number of unique users among first 1000 reviews: 966\n",
      "Number of unique products among first 1000 reviews: 208\n"
     ]
    }
   ],
   "source": [
    "# Only look at the first 1000 reviews for now\n",
    "reviews_1000 = reviews.ix[:1000, :]\n",
    "\n",
    "# Extract unique users and products from this subset of reviews\n",
    "unique_users_1000 = reviews_1000.UserId.unique()\n",
    "unique_products_1000 = reviews_1000.ProductId.unique()\n",
    "\n",
    "print \"Number of unique users among first 1000 reviews:\", len(unique_users_1000)\n",
    "print \"Number of unique products among first 1000 reviews:\", len(unique_products_1000)\n"
   ]
  },
  {
   "cell_type": "code",
   "execution_count": 49,
   "metadata": {
    "collapsed": false
   },
   "outputs": [
    {
     "data": {
      "text/plain": [
       "array([[ 1.        ,  0.0053611 ,  0.        , ...,  0.        ,\n",
       "         0.00586703,  0.00470555],\n",
       "       [ 0.0053611 ,  1.        ,  0.        , ...,  0.        ,\n",
       "         0.00150435,  0.        ],\n",
       "       [ 0.        ,  0.        ,  1.        , ...,  0.        ,\n",
       "         0.00631487,  0.        ],\n",
       "       ..., \n",
       "       [ 0.        ,  0.        ,  0.        , ...,  1.        ,\n",
       "         0.01151698,  0.        ],\n",
       "       [ 0.00586703,  0.00150435,  0.00631487, ...,  0.01151698,\n",
       "         1.        ,  0.00781604],\n",
       "       [ 0.00470555,  0.        ,  0.        , ...,  0.        ,\n",
       "         0.00781604,  1.        ]])"
      ]
     },
     "execution_count": 49,
     "metadata": {},
     "output_type": "execute_result"
    }
   ],
   "source": [
    "# Note that the cosine similarities matrix from part 2 contains information for the first 1000 unique products\n",
    "# We'll only use the 208 unique products that appear in the first 1000 reviews\n",
    "cosine_similarities_1000 = cosine_similarities[:208, :208]\n",
    "cosine_similarities_1000"
   ]
  },
  {
   "cell_type": "code",
   "execution_count": 39,
   "metadata": {
    "collapsed": true
   },
   "outputs": [],
   "source": [
    "# Reformat the first 1000 reviews such that each row is a user ID, each column is a product\n",
    "# Fill entries: 1 indicates that the user corresponding to therow reviewed the product corresponding to the column\n",
    "# (regardless of rating);\n",
    "# All other entries are 0\n",
    "\n",
    "reviews_1000_reformatted = pd.DataFrame(index=unique_users_1000,columns=unique_products_1000)\n",
    "\n",
    "for i in range(1000):\n",
    "    rev = reviews_1000.ix[i, :]\n",
    "    user = rev['UserId']; product = rev['ProductId']; score = rev['Score']\n",
    "    reviews_1000_reformatted.ix[user, product] = 1\n",
    "    \n",
    "reviews_1000_reformatted = reviews_1000_reformatted.fillna(0)"
   ]
  },
  {
   "cell_type": "code",
   "execution_count": 40,
   "metadata": {
    "collapsed": false
   },
   "outputs": [
    {
     "data": {
      "text/html": [
       "<div>\n",
       "<table border=\"1\" class=\"dataframe\">\n",
       "  <thead>\n",
       "    <tr style=\"text-align: right;\">\n",
       "      <th></th>\n",
       "      <th>B001E4KFG0</th>\n",
       "      <th>B00813GRG4</th>\n",
       "      <th>B000LQOCH0</th>\n",
       "      <th>B000UA0QIQ</th>\n",
       "      <th>B006K2ZZ7K</th>\n",
       "      <th>B000E7L2R4</th>\n",
       "      <th>B00171APVA</th>\n",
       "      <th>B0001PB9FE</th>\n",
       "      <th>B0009XLVG0</th>\n",
       "      <th>B001GVISJM</th>\n",
       "      <th>...</th>\n",
       "      <th>B005NEXK6Y</th>\n",
       "      <th>B00448SNSA</th>\n",
       "      <th>B0002XIB2Y</th>\n",
       "      <th>B000F0G75W</th>\n",
       "      <th>B001EQ4DVQ</th>\n",
       "      <th>B004DTNJU2</th>\n",
       "      <th>B00473OV2E</th>\n",
       "      <th>B0048IACB2</th>\n",
       "      <th>B006F2NYI2</th>\n",
       "      <th>B004A8VV42</th>\n",
       "    </tr>\n",
       "  </thead>\n",
       "  <tbody>\n",
       "    <tr>\n",
       "      <th>A3SGXH7AUHU8GW</th>\n",
       "      <td>1</td>\n",
       "      <td>0</td>\n",
       "      <td>0</td>\n",
       "      <td>0</td>\n",
       "      <td>0</td>\n",
       "      <td>0</td>\n",
       "      <td>0</td>\n",
       "      <td>0</td>\n",
       "      <td>0</td>\n",
       "      <td>0</td>\n",
       "      <td>...</td>\n",
       "      <td>0</td>\n",
       "      <td>0</td>\n",
       "      <td>0</td>\n",
       "      <td>0</td>\n",
       "      <td>0</td>\n",
       "      <td>0</td>\n",
       "      <td>0</td>\n",
       "      <td>0</td>\n",
       "      <td>0</td>\n",
       "      <td>0</td>\n",
       "    </tr>\n",
       "    <tr>\n",
       "      <th>A1D87F6ZCVE5NK</th>\n",
       "      <td>0</td>\n",
       "      <td>1</td>\n",
       "      <td>0</td>\n",
       "      <td>0</td>\n",
       "      <td>0</td>\n",
       "      <td>0</td>\n",
       "      <td>0</td>\n",
       "      <td>0</td>\n",
       "      <td>0</td>\n",
       "      <td>0</td>\n",
       "      <td>...</td>\n",
       "      <td>0</td>\n",
       "      <td>0</td>\n",
       "      <td>0</td>\n",
       "      <td>0</td>\n",
       "      <td>0</td>\n",
       "      <td>0</td>\n",
       "      <td>0</td>\n",
       "      <td>0</td>\n",
       "      <td>0</td>\n",
       "      <td>0</td>\n",
       "    </tr>\n",
       "    <tr>\n",
       "      <th>ABXLMWJIXXAIN</th>\n",
       "      <td>0</td>\n",
       "      <td>0</td>\n",
       "      <td>1</td>\n",
       "      <td>0</td>\n",
       "      <td>0</td>\n",
       "      <td>0</td>\n",
       "      <td>0</td>\n",
       "      <td>0</td>\n",
       "      <td>0</td>\n",
       "      <td>0</td>\n",
       "      <td>...</td>\n",
       "      <td>0</td>\n",
       "      <td>0</td>\n",
       "      <td>0</td>\n",
       "      <td>0</td>\n",
       "      <td>0</td>\n",
       "      <td>0</td>\n",
       "      <td>0</td>\n",
       "      <td>0</td>\n",
       "      <td>0</td>\n",
       "      <td>0</td>\n",
       "    </tr>\n",
       "    <tr>\n",
       "      <th>A395BORC6FGVXV</th>\n",
       "      <td>0</td>\n",
       "      <td>0</td>\n",
       "      <td>0</td>\n",
       "      <td>1</td>\n",
       "      <td>0</td>\n",
       "      <td>0</td>\n",
       "      <td>0</td>\n",
       "      <td>0</td>\n",
       "      <td>0</td>\n",
       "      <td>0</td>\n",
       "      <td>...</td>\n",
       "      <td>0</td>\n",
       "      <td>0</td>\n",
       "      <td>0</td>\n",
       "      <td>0</td>\n",
       "      <td>0</td>\n",
       "      <td>0</td>\n",
       "      <td>0</td>\n",
       "      <td>0</td>\n",
       "      <td>0</td>\n",
       "      <td>0</td>\n",
       "    </tr>\n",
       "    <tr>\n",
       "      <th>A1UQRSCLF8GW1T</th>\n",
       "      <td>0</td>\n",
       "      <td>0</td>\n",
       "      <td>0</td>\n",
       "      <td>0</td>\n",
       "      <td>1</td>\n",
       "      <td>0</td>\n",
       "      <td>0</td>\n",
       "      <td>0</td>\n",
       "      <td>0</td>\n",
       "      <td>0</td>\n",
       "      <td>...</td>\n",
       "      <td>0</td>\n",
       "      <td>0</td>\n",
       "      <td>0</td>\n",
       "      <td>0</td>\n",
       "      <td>0</td>\n",
       "      <td>0</td>\n",
       "      <td>0</td>\n",
       "      <td>0</td>\n",
       "      <td>0</td>\n",
       "      <td>0</td>\n",
       "    </tr>\n",
       "  </tbody>\n",
       "</table>\n",
       "<p>5 rows × 208 columns</p>\n",
       "</div>"
      ],
      "text/plain": [
       "                B001E4KFG0  B00813GRG4  B000LQOCH0  B000UA0QIQ  B006K2ZZ7K  \\\n",
       "A3SGXH7AUHU8GW           1           0           0           0           0   \n",
       "A1D87F6ZCVE5NK           0           1           0           0           0   \n",
       "ABXLMWJIXXAIN            0           0           1           0           0   \n",
       "A395BORC6FGVXV           0           0           0           1           0   \n",
       "A1UQRSCLF8GW1T           0           0           0           0           1   \n",
       "\n",
       "                B000E7L2R4  B00171APVA  B0001PB9FE  B0009XLVG0  B001GVISJM  \\\n",
       "A3SGXH7AUHU8GW           0           0           0           0           0   \n",
       "A1D87F6ZCVE5NK           0           0           0           0           0   \n",
       "ABXLMWJIXXAIN            0           0           0           0           0   \n",
       "A395BORC6FGVXV           0           0           0           0           0   \n",
       "A1UQRSCLF8GW1T           0           0           0           0           0   \n",
       "\n",
       "                   ...      B005NEXK6Y  B00448SNSA  B0002XIB2Y  B000F0G75W  \\\n",
       "A3SGXH7AUHU8GW     ...               0           0           0           0   \n",
       "A1D87F6ZCVE5NK     ...               0           0           0           0   \n",
       "ABXLMWJIXXAIN      ...               0           0           0           0   \n",
       "A395BORC6FGVXV     ...               0           0           0           0   \n",
       "A1UQRSCLF8GW1T     ...               0           0           0           0   \n",
       "\n",
       "                B001EQ4DVQ  B004DTNJU2  B00473OV2E  B0048IACB2  B006F2NYI2  \\\n",
       "A3SGXH7AUHU8GW           0           0           0           0           0   \n",
       "A1D87F6ZCVE5NK           0           0           0           0           0   \n",
       "ABXLMWJIXXAIN            0           0           0           0           0   \n",
       "A395BORC6FGVXV           0           0           0           0           0   \n",
       "A1UQRSCLF8GW1T           0           0           0           0           0   \n",
       "\n",
       "                B004A8VV42  \n",
       "A3SGXH7AUHU8GW           0  \n",
       "A1D87F6ZCVE5NK           0  \n",
       "ABXLMWJIXXAIN            0  \n",
       "A395BORC6FGVXV           0  \n",
       "A1UQRSCLF8GW1T           0  \n",
       "\n",
       "[5 rows x 208 columns]"
      ]
     },
     "execution_count": 40,
     "metadata": {},
     "output_type": "execute_result"
    }
   ],
   "source": [
    "reviews_1000_reformatted.head()"
   ]
  },
  {
   "cell_type": "code",
   "execution_count": 43,
   "metadata": {
    "collapsed": false
   },
   "outputs": [],
   "source": [
    "user_based_recs = pd.DataFrame(index=unique_users_1000,columns=unique_products_1000)"
   ]
  },
  {
   "cell_type": "code",
   "execution_count": 44,
   "metadata": {
    "collapsed": true
   },
   "outputs": [],
   "source": [
    "# Helper function to get similarity scores\n",
    "# This weights a set of entries in our cosine_similarities matrix using a user's review history\n",
    "# BASED ON http://www.salemmarafi.com/code/collaborative-filtering-with-python/\n",
    "def getScore(history, similarities):\n",
    "    return sum(history*similarities)/sum(similarities)"
   ]
  },
  {
   "cell_type": "code",
   "execution_count": 52,
   "metadata": {
    "collapsed": false
   },
   "outputs": [],
   "source": [
    "#Loop through all user and item combinations. Fill with similarity scores based on our getScore function,\n",
    "# which takes into account the historical \"likes\" of a user AND the cosine similarities we calculated before\n",
    "for i in range(0, len(user_based_recs.index)):\n",
    "    for j in range(1, len(user_based_recs.columns)):\n",
    "        user = user_based_recs.index[i]\n",
    "        product = user_based_recs.columns[j]\n",
    " \n",
    "        if (reviews_1000_reformatted.ix[i, j] == 1):\n",
    "        # If user has already reviewed a product, don't recommend it again\n",
    "            user_based_recs.ix[i, j] = 0\n",
    "        else:\n",
    "            # Use function in part 2 to grab 8 nearest neighbors to the product we're looking at\n",
    "            # This yields a list of tuples: (similarity score, product name)\n",
    "            top_products = return_nearest(product, cosine_similarities_1000, product_df)\n",
    "            top_product_names = [x[1] for x in top_products] # Extract product names from 8 nearest neighbors\n",
    "            top_product_sims = [x[0] for x in top_products] # Extract similarity scores from 8 nearest neighbors\n",
    "            user_purchases = reviews_1000_reformatted.ix[user, top_product_names].values\n",
    " \n",
    "            user_based_recs.ix[i, j] = getScore(user_purchases, top_product_sims)"
   ]
  },
  {
   "cell_type": "code",
   "execution_count": 53,
   "metadata": {
    "collapsed": false
   },
   "outputs": [
    {
     "data": {
      "text/html": [
       "<div>\n",
       "<table border=\"1\" class=\"dataframe\">\n",
       "  <thead>\n",
       "    <tr style=\"text-align: right;\">\n",
       "      <th></th>\n",
       "      <th>B001E4KFG0</th>\n",
       "      <th>B00813GRG4</th>\n",
       "      <th>B000LQOCH0</th>\n",
       "      <th>B000UA0QIQ</th>\n",
       "      <th>B006K2ZZ7K</th>\n",
       "      <th>B000E7L2R4</th>\n",
       "      <th>B00171APVA</th>\n",
       "      <th>B0001PB9FE</th>\n",
       "      <th>B0009XLVG0</th>\n",
       "      <th>B001GVISJM</th>\n",
       "      <th>...</th>\n",
       "      <th>B005NEXK6Y</th>\n",
       "      <th>B00448SNSA</th>\n",
       "      <th>B0002XIB2Y</th>\n",
       "      <th>B000F0G75W</th>\n",
       "      <th>B001EQ4DVQ</th>\n",
       "      <th>B004DTNJU2</th>\n",
       "      <th>B00473OV2E</th>\n",
       "      <th>B0048IACB2</th>\n",
       "      <th>B006F2NYI2</th>\n",
       "      <th>B004A8VV42</th>\n",
       "    </tr>\n",
       "  </thead>\n",
       "  <tbody>\n",
       "    <tr>\n",
       "      <th>A3SGXH7AUHU8GW</th>\n",
       "      <td>NaN</td>\n",
       "      <td>0</td>\n",
       "      <td>0</td>\n",
       "      <td>0</td>\n",
       "      <td>0</td>\n",
       "      <td>0</td>\n",
       "      <td>0.158688</td>\n",
       "      <td>0</td>\n",
       "      <td>0</td>\n",
       "      <td>0</td>\n",
       "      <td>...</td>\n",
       "      <td>0</td>\n",
       "      <td>0</td>\n",
       "      <td>0</td>\n",
       "      <td>0</td>\n",
       "      <td>0</td>\n",
       "      <td>0</td>\n",
       "      <td>0</td>\n",
       "      <td>0</td>\n",
       "      <td>0</td>\n",
       "      <td>0</td>\n",
       "    </tr>\n",
       "    <tr>\n",
       "      <th>A1D87F6ZCVE5NK</th>\n",
       "      <td>NaN</td>\n",
       "      <td>0</td>\n",
       "      <td>0</td>\n",
       "      <td>0</td>\n",
       "      <td>0</td>\n",
       "      <td>0</td>\n",
       "      <td>0</td>\n",
       "      <td>0</td>\n",
       "      <td>0</td>\n",
       "      <td>0</td>\n",
       "      <td>...</td>\n",
       "      <td>0</td>\n",
       "      <td>0</td>\n",
       "      <td>0</td>\n",
       "      <td>0</td>\n",
       "      <td>0</td>\n",
       "      <td>0</td>\n",
       "      <td>0</td>\n",
       "      <td>0</td>\n",
       "      <td>0</td>\n",
       "      <td>0</td>\n",
       "    </tr>\n",
       "    <tr>\n",
       "      <th>ABXLMWJIXXAIN</th>\n",
       "      <td>NaN</td>\n",
       "      <td>0</td>\n",
       "      <td>0</td>\n",
       "      <td>0</td>\n",
       "      <td>0</td>\n",
       "      <td>0</td>\n",
       "      <td>0</td>\n",
       "      <td>0</td>\n",
       "      <td>0</td>\n",
       "      <td>0</td>\n",
       "      <td>...</td>\n",
       "      <td>0</td>\n",
       "      <td>0</td>\n",
       "      <td>0</td>\n",
       "      <td>0</td>\n",
       "      <td>0</td>\n",
       "      <td>0</td>\n",
       "      <td>0</td>\n",
       "      <td>0</td>\n",
       "      <td>0</td>\n",
       "      <td>0</td>\n",
       "    </tr>\n",
       "    <tr>\n",
       "      <th>A395BORC6FGVXV</th>\n",
       "      <td>NaN</td>\n",
       "      <td>0</td>\n",
       "      <td>0</td>\n",
       "      <td>0</td>\n",
       "      <td>0.12294</td>\n",
       "      <td>0</td>\n",
       "      <td>0</td>\n",
       "      <td>0</td>\n",
       "      <td>0</td>\n",
       "      <td>0</td>\n",
       "      <td>...</td>\n",
       "      <td>0</td>\n",
       "      <td>0</td>\n",
       "      <td>0</td>\n",
       "      <td>0</td>\n",
       "      <td>0</td>\n",
       "      <td>0</td>\n",
       "      <td>0</td>\n",
       "      <td>0</td>\n",
       "      <td>0</td>\n",
       "      <td>0</td>\n",
       "    </tr>\n",
       "    <tr>\n",
       "      <th>A1UQRSCLF8GW1T</th>\n",
       "      <td>NaN</td>\n",
       "      <td>0</td>\n",
       "      <td>0.128287</td>\n",
       "      <td>0.167951</td>\n",
       "      <td>0</td>\n",
       "      <td>0</td>\n",
       "      <td>0</td>\n",
       "      <td>0</td>\n",
       "      <td>0</td>\n",
       "      <td>0</td>\n",
       "      <td>...</td>\n",
       "      <td>0</td>\n",
       "      <td>0</td>\n",
       "      <td>0</td>\n",
       "      <td>0</td>\n",
       "      <td>0</td>\n",
       "      <td>0</td>\n",
       "      <td>0</td>\n",
       "      <td>0</td>\n",
       "      <td>0</td>\n",
       "      <td>0</td>\n",
       "    </tr>\n",
       "  </tbody>\n",
       "</table>\n",
       "<p>5 rows × 208 columns</p>\n",
       "</div>"
      ],
      "text/plain": [
       "               B001E4KFG0 B00813GRG4 B000LQOCH0 B000UA0QIQ B006K2ZZ7K  \\\n",
       "A3SGXH7AUHU8GW        NaN          0          0          0          0   \n",
       "A1D87F6ZCVE5NK        NaN          0          0          0          0   \n",
       "ABXLMWJIXXAIN         NaN          0          0          0          0   \n",
       "A395BORC6FGVXV        NaN          0          0          0    0.12294   \n",
       "A1UQRSCLF8GW1T        NaN          0   0.128287   0.167951          0   \n",
       "\n",
       "               B000E7L2R4 B00171APVA B0001PB9FE B0009XLVG0 B001GVISJM  \\\n",
       "A3SGXH7AUHU8GW          0   0.158688          0          0          0   \n",
       "A1D87F6ZCVE5NK          0          0          0          0          0   \n",
       "ABXLMWJIXXAIN           0          0          0          0          0   \n",
       "A395BORC6FGVXV          0          0          0          0          0   \n",
       "A1UQRSCLF8GW1T          0          0          0          0          0   \n",
       "\n",
       "                  ...     B005NEXK6Y B00448SNSA B0002XIB2Y B000F0G75W  \\\n",
       "A3SGXH7AUHU8GW    ...              0          0          0          0   \n",
       "A1D87F6ZCVE5NK    ...              0          0          0          0   \n",
       "ABXLMWJIXXAIN     ...              0          0          0          0   \n",
       "A395BORC6FGVXV    ...              0          0          0          0   \n",
       "A1UQRSCLF8GW1T    ...              0          0          0          0   \n",
       "\n",
       "               B001EQ4DVQ B004DTNJU2 B00473OV2E B0048IACB2 B006F2NYI2  \\\n",
       "A3SGXH7AUHU8GW          0          0          0          0          0   \n",
       "A1D87F6ZCVE5NK          0          0          0          0          0   \n",
       "ABXLMWJIXXAIN           0          0          0          0          0   \n",
       "A395BORC6FGVXV          0          0          0          0          0   \n",
       "A1UQRSCLF8GW1T          0          0          0          0          0   \n",
       "\n",
       "               B004A8VV42  \n",
       "A3SGXH7AUHU8GW          0  \n",
       "A1D87F6ZCVE5NK          0  \n",
       "ABXLMWJIXXAIN           0  \n",
       "A395BORC6FGVXV          0  \n",
       "A1UQRSCLF8GW1T          0  \n",
       "\n",
       "[5 rows x 208 columns]"
      ]
     },
     "execution_count": 53,
     "metadata": {},
     "output_type": "execute_result"
    }
   ],
   "source": [
    "user_based_recs.head()"
   ]
  },
  {
   "cell_type": "code",
   "execution_count": 68,
   "metadata": {
    "collapsed": true
   },
   "outputs": [],
   "source": [
    "#takes a product name in the unique products data and returns the 8 most similar products\n",
    "#input: User ID, user-based recommendation matrix\n",
    "#output: 8 recommended products\n",
    "\n",
    "def user_recommend(user, user_based_recs):\n",
    "    row = user_based_recs.ix[user, :]\n",
    "    sorted_row = row.sort_values(ascending = False)\n",
    "    \n",
    "    return sorted_row[0:8]\n",
    "    "
   ]
  },
  {
   "cell_type": "code",
   "execution_count": 69,
   "metadata": {
    "collapsed": false
   },
   "outputs": [
    {
     "data": {
      "text/plain": [
       "B005Y0DXBO     0.184012\n",
       "B001IZM8A6     0.166594\n",
       "B00171APVA     0.158688\n",
       "B0019CW0HE      0.12954\n",
       "B0002567IW     0.120913\n",
       "B003AO5DLO    0.0972636\n",
       "B0064KU9HO    0.0900858\n",
       "B003VTN95K            0\n",
       "Name: A3SGXH7AUHU8GW, dtype: object"
      ]
     },
     "execution_count": 69,
     "metadata": {},
     "output_type": "execute_result"
    }
   ],
   "source": [
    "# Try getting recommendations for user A3SGXH7AUHU8GW\n",
    "user_recommend('A3SGXH7AUHU8GW', user_based_recs)"
   ]
  }
 ],
 "metadata": {
  "anaconda-cloud": {},
  "kernelspec": {
   "display_name": "Python [Root]",
   "language": "python",
   "name": "Python [Root]"
  },
  "language_info": {
   "codemirror_mode": {
    "name": "ipython",
    "version": 2
   },
   "file_extension": ".py",
   "mimetype": "text/x-python",
   "name": "python",
   "nbconvert_exporter": "python",
   "pygments_lexer": "ipython2",
   "version": "2.7.12"
  }
 },
 "nbformat": 4,
 "nbformat_minor": 0
}
