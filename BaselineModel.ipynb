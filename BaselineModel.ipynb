{
 "cells": [
  {
   "cell_type": "code",
   "execution_count": 2,
   "metadata": {
    "collapsed": true
   },
   "outputs": [],
   "source": [
    "import numpy as np\n",
    "import matplotlib\n",
    "import matplotlib.pyplot as plt\n",
    "from mpl_toolkits.mplot3d import Axes3D\n",
    "import matplotlib.cm as cmx\n",
    "import matplotlib.colors as colors\n",
    "import pandas as pd\n",
    "from sklearn.linear_model import LogisticRegression as LogReg\n",
    "from sklearn.feature_extraction.text import CountVectorizer\n",
    "from sklearn.neighbors import KNeighborsClassifier as KNN\n",
    "from sklearn.decomposition import PCA\n",
    "from sklearn.feature_extraction.text import CountVectorizer\n",
    "from sklearn.neighbors import KNeighborsClassifier as KNN\n",
    "from sklearn.cluster import KMeans\n",
    "%matplotlib inline"
   ]
  },
  {
   "cell_type": "code",
   "execution_count": 3,
   "metadata": {
    "collapsed": true
   },
   "outputs": [],
   "source": [
    "reviews = pd.read_csv('Reviews.csv')\n",
    "unique_users = reviews.UserId.unique()\n",
    "unique_products = reviews.ProductId.unique()"
   ]
  },
  {
   "cell_type": "markdown",
   "metadata": {},
   "source": [
    "## Baseline Model:\n",
    "- Simple Averaging: A simple baseline model is to use the average of all other scores of a particular product to predict how a user will rate the product. If there is no other data on the product we guess 3.\n",
    "- Content based recommendation"
   ]
  },
  {
   "cell_type": "markdown",
   "metadata": {},
   "source": [
    "### 1. Simple Averaging"
   ]
  },
  {
   "cell_type": "code",
   "execution_count": 5,
   "metadata": {
    "collapsed": true
   },
   "outputs": [],
   "source": [
    "#Uses average score to predict how a user will score, for the first 10000 observations\n",
    "def compute_baseline_error():\n",
    "    l1score = []\n",
    "    misclassified = []\n",
    "\n",
    "    for i in  range(10000):\n",
    "        correct = 0 \n",
    "        score = reviews.ix[i,:].Score\n",
    "        product = reviews.ix[i,:].ProductId\n",
    "        ID = reviews.ix[i,:].Id\n",
    "        other_reviews = reviews[(reviews.ProductId == product) & (reviews.Id != ID)].Score.values\n",
    "        if len(other_reviews) == 0:\n",
    "            guess = 3 \n",
    "        else:\n",
    "            guess = other_reviews.mean()\n",
    "        \n",
    "        offby = guess - score\n",
    "        if int(guess+0.5) == int(score):\n",
    "            correct = 1\n",
    "        \n",
    "        l1score.append(offby)\n",
    "        misclassified.append(correct)\n",
    "    return l1score,misclassified"
   ]
  },
  {
   "cell_type": "code",
   "execution_count": 6,
   "metadata": {
    "collapsed": false
   },
   "outputs": [
    {
     "name": "stdout",
     "output_type": "stream",
     "text": [
      "323.726979971\n"
     ]
    }
   ],
   "source": [
    "import time \n",
    "start = time.time()\n",
    "l,m = compute_baseline_error()\n",
    "end = time.time()\n",
    "print end - start"
   ]
  },
  {
   "cell_type": "code",
   "execution_count": 8,
   "metadata": {
    "collapsed": false
   },
   "outputs": [
    {
     "name": "stdout",
     "output_type": "stream",
     "text": [
      "Fraction Correctly Classified:  0.3287\n"
     ]
    }
   ],
   "source": [
    "print \"Fraction Correctly Classified: \", sum(m)/float(len(m))"
   ]
  },
  {
   "cell_type": "markdown",
   "metadata": {},
   "source": [
    "We can also relabel good (4,5) or bad (1,2,3) scores as 1 and 0 and see how well this does, guessing 1 if there's no data (justify later but people are probably more likely to give positive reviews than negative ones). "
   ]
  },
  {
   "cell_type": "code",
   "execution_count": 15,
   "metadata": {
    "collapsed": true
   },
   "outputs": [],
   "source": [
    "def modified_baseline_error():\n",
    "    misclassified = []\n",
    "\n",
    "    for i in  range(10000):\n",
    "        correct = 0 \n",
    "        score = reviews.ix[i,:].Score\n",
    "        product = reviews.ix[i,:].ProductId\n",
    "        ID = reviews.ix[i,:].Id\n",
    "        other_reviews = reviews[(reviews.ProductId == product) & (reviews.Id != ID)].Score.values\n",
    "        if len(other_reviews) == 0:\n",
    "            guess = 5 \n",
    "        else:\n",
    "            guess = other_reviews.mean()\n",
    "        \n",
    "        if guess >= 3.5:\n",
    "            new_guess = 1\n",
    "        else:\n",
    "            new_guess = 0\n",
    "        if score >=3.5:\n",
    "            new_score = 1\n",
    "        else:\n",
    "            new_score = 0\n",
    "                \n",
    "        if new_guess == new_score:\n",
    "            misclassified.append(1)\n",
    "        else:\n",
    "            misclassified.append(0)\n",
    "    return misclassified"
   ]
  },
  {
   "cell_type": "code",
   "execution_count": 16,
   "metadata": {
    "collapsed": false
   },
   "outputs": [
    {
     "name": "stdout",
     "output_type": "stream",
     "text": [
      "312.308862925\n"
     ]
    }
   ],
   "source": [
    "import time \n",
    "start = time.time()\n",
    "m = modified_baseline_error()\n",
    "end = time.time()\n",
    "print end - start"
   ]
  },
  {
   "cell_type": "code",
   "execution_count": 20,
   "metadata": {
    "collapsed": false
   },
   "outputs": [
    {
     "name": "stdout",
     "output_type": "stream",
     "text": [
      "Fraction Correctly Classified:  0.7487\n"
     ]
    }
   ],
   "source": [
    "print 'Fraction Correctly Classified: ', sum(m)/float(len(m))"
   ]
  },
  {
   "cell_type": "markdown",
   "metadata": {},
   "source": [
    "### 2. Content Based Recommendation"
   ]
  },
  {
   "cell_type": "code",
   "execution_count": 34,
   "metadata": {
    "collapsed": false
   },
   "outputs": [],
   "source": [
    "#Useful Packages\n",
    "from sklearn.feature_extraction.text import TfidfVectorizer\n",
    "from sklearn.metrics.pairwise import linear_kernel\n",
    "from scipy.spatial.distance import cosine\n",
    "from scipy.cluster.vq import vq,kmeans,whiten\n",
    "import time"
   ]
  },
  {
   "cell_type": "markdown",
   "metadata": {},
   "source": [
    "Create a new dataframe with unique products and their associated text:"
   ]
  },
  {
   "cell_type": "code",
   "execution_count": 37,
   "metadata": {
    "collapsed": false
   },
   "outputs": [
    {
     "name": "stdout",
     "output_type": "stream",
     "text": [
      "29.7132220268\n"
     ]
    }
   ],
   "source": [
    "#whole thing takes a long time(>30minutes), use first 1000 products\n",
    "start = time.time()\n",
    "unique_prod_reviews = map(lambda x: to_words(x),unique_products[0:1000])\n",
    "end = time.time()\n",
    "print end - start"
   ]
  },
  {
   "cell_type": "code",
   "execution_count": 39,
   "metadata": {
    "collapsed": false
   },
   "outputs": [
    {
     "data": {
      "text/html": [
       "<div>\n",
       "<table border=\"1\" class=\"dataframe\">\n",
       "  <thead>\n",
       "    <tr style=\"text-align: right;\">\n",
       "      <th></th>\n",
       "      <th>ProductId</th>\n",
       "      <th>Text</th>\n",
       "    </tr>\n",
       "  </thead>\n",
       "  <tbody>\n",
       "    <tr>\n",
       "      <th>0</th>\n",
       "      <td>B001E4KFG0</td>\n",
       "      <td>[I have bought several of the Vitality canned ...</td>\n",
       "    </tr>\n",
       "    <tr>\n",
       "      <th>1</th>\n",
       "      <td>B00813GRG4</td>\n",
       "      <td>[Product arrived labeled as Jumbo Salted Peanu...</td>\n",
       "    </tr>\n",
       "    <tr>\n",
       "      <th>2</th>\n",
       "      <td>B000LQOCH0</td>\n",
       "      <td>[This is a confection that has been around a f...</td>\n",
       "    </tr>\n",
       "    <tr>\n",
       "      <th>3</th>\n",
       "      <td>B000UA0QIQ</td>\n",
       "      <td>[If you are looking for the secret ingredient ...</td>\n",
       "    </tr>\n",
       "    <tr>\n",
       "      <th>4</th>\n",
       "      <td>B006K2ZZ7K</td>\n",
       "      <td>[Great taffy at a great price.  There was a wi...</td>\n",
       "    </tr>\n",
       "  </tbody>\n",
       "</table>\n",
       "</div>"
      ],
      "text/plain": [
       "    ProductId                                               Text\n",
       "0  B001E4KFG0  [I have bought several of the Vitality canned ...\n",
       "1  B00813GRG4  [Product arrived labeled as Jumbo Salted Peanu...\n",
       "2  B000LQOCH0  [This is a confection that has been around a f...\n",
       "3  B000UA0QIQ  [If you are looking for the secret ingredient ...\n",
       "4  B006K2ZZ7K  [Great taffy at a great price.  There was a wi..."
      ]
     },
     "execution_count": 39,
     "metadata": {},
     "output_type": "execute_result"
    }
   ],
   "source": [
    "product_df = pd.DataFrame()\n",
    "product_df['ProductId'] = unique_products[0:1000]\n",
    "product_df['Text'] = unique_prod_reviews\n",
    "product_df.head()"
   ]
  },
  {
   "cell_type": "markdown",
   "metadata": {},
   "source": [
    "Use SKLearns implementation of Tf-Idf on the data"
   ]
  },
  {
   "cell_type": "code",
   "execution_count": 40,
   "metadata": {
    "collapsed": true
   },
   "outputs": [],
   "source": [
    "a = np.array(unique_prod_reviews)\n",
    "a = a.reshape(len(a),)\n",
    "tf = TfidfVectorizer(analyzer='word',ngram_range=(1, 3), min_df=0, stop_words='english')\n",
    "tfidf_matrix = tf.fit_transform(a)"
   ]
  },
  {
   "cell_type": "code",
   "execution_count": 41,
   "metadata": {
    "collapsed": false
   },
   "outputs": [
    {
     "data": {
      "text/plain": [
       "array([[  1.00000000e+00,   5.36110174e-03,   0.00000000e+00, ...,\n",
       "          8.28603989e-03,   5.19533133e-03,   5.02833995e-03],\n",
       "       [  5.36110174e-03,   1.00000000e+00,   0.00000000e+00, ...,\n",
       "          5.29899866e-03,   0.00000000e+00,   1.78627910e-03],\n",
       "       [  0.00000000e+00,   0.00000000e+00,   1.00000000e+00, ...,\n",
       "          0.00000000e+00,   0.00000000e+00,   0.00000000e+00],\n",
       "       ..., \n",
       "       [  8.28603989e-03,   5.29899866e-03,   0.00000000e+00, ...,\n",
       "          1.00000000e+00,   8.30201976e-03,   7.89411311e-04],\n",
       "       [  5.19533133e-03,   0.00000000e+00,   0.00000000e+00, ...,\n",
       "          8.30201976e-03,   1.00000000e+00,   4.70532436e-03],\n",
       "       [  5.02833995e-03,   1.78627910e-03,   0.00000000e+00, ...,\n",
       "          7.89411311e-04,   4.70532436e-03,   1.00000000e+00]])"
      ]
     },
     "execution_count": 41,
     "metadata": {},
     "output_type": "execute_result"
    }
   ],
   "source": [
    "tfidf_matrix.toarray()\n",
    "cosine_similarities = linear_kernel(tfidf_matrix, tfidf_matrix)\n",
    "cosine_similarities"
   ]
  },
  {
   "cell_type": "markdown",
   "metadata": {},
   "source": [
    "Above is the TF-IDF Matrix for the first 1000 products. Write a function to return 8 most similar items given a product ID as input."
   ]
  },
  {
   "cell_type": "code",
   "execution_count": 42,
   "metadata": {
    "collapsed": true
   },
   "outputs": [],
   "source": [
    "#takes a product name in the unique products data and returns the 8 most similar products\n",
    "#input: Product ID, Product Dataframe, Similarity Matrix\n",
    "#output: Array of 8 nearest items in the database using cosine similarity\n",
    "\n",
    "def return_nearest(product,cosine_similarities,product_df):\n",
    "    idx = product_df[product_df.ProductId == product].index[0]\n",
    "    similar_indices = cosine_similarities[idx].argsort()[:-10:-1]\n",
    "    similar_items = [(cosine_similarities[idx][i], product_df['ProductId'][i]) for i in similar_indices]\n",
    "    return similar_items[1:]\n"
   ]
  },
  {
   "cell_type": "code",
   "execution_count": 43,
   "metadata": {
    "collapsed": false
   },
   "outputs": [
    {
     "data": {
      "text/plain": [
       "[(0.060071873611170931, 'B000CMFMG8'),\n",
       " (0.052140838382313696, 'B0047LRBX2'),\n",
       " (0.043432096349825311, 'B001EO6BCC'),\n",
       " (0.037325003722012799, 'B000G6RPMY'),\n",
       " (0.026276191344016604, 'B001FA1L7U'),\n",
       " (0.025318462964514555, 'B004AVYUOW'),\n",
       " (0.025057186536542934, 'B001HOUGFC'),\n",
       " (0.023818763987623219, 'B000YT5DBS')]"
      ]
     },
     "execution_count": 43,
     "metadata": {},
     "output_type": "execute_result"
    }
   ],
   "source": [
    "return_nearest('B00813GRG4',cosine_similarities,product_df)"
   ]
  },
  {
   "cell_type": "code",
   "execution_count": 53,
   "metadata": {
    "collapsed": false
   },
   "outputs": [
    {
     "data": {
      "text/html": [
       "<div>\n",
       "<table border=\"1\" class=\"dataframe\">\n",
       "  <thead>\n",
       "    <tr style=\"text-align: right;\">\n",
       "      <th></th>\n",
       "      <th>Id</th>\n",
       "      <th>ProductId</th>\n",
       "      <th>UserId</th>\n",
       "      <th>ProfileName</th>\n",
       "      <th>HelpfulnessNumerator</th>\n",
       "      <th>HelpfulnessDenominator</th>\n",
       "      <th>Score</th>\n",
       "      <th>Time</th>\n",
       "      <th>Summary</th>\n",
       "      <th>Text</th>\n",
       "    </tr>\n",
       "  </thead>\n",
       "  <tbody>\n",
       "    <tr>\n",
       "      <th>1</th>\n",
       "      <td>2</td>\n",
       "      <td>B00813GRG4</td>\n",
       "      <td>A1D87F6ZCVE5NK</td>\n",
       "      <td>dll pa</td>\n",
       "      <td>0</td>\n",
       "      <td>0</td>\n",
       "      <td>1</td>\n",
       "      <td>1346976000</td>\n",
       "      <td>Not as Advertised</td>\n",
       "      <td>Product arrived labeled as Jumbo Salted Peanut...</td>\n",
       "    </tr>\n",
       "    <tr>\n",
       "      <th>51</th>\n",
       "      <td>52</td>\n",
       "      <td>B000G6RPMY</td>\n",
       "      <td>A3S5KJDA6ED2PS</td>\n",
       "      <td>Mike Kaser</td>\n",
       "      <td>4</td>\n",
       "      <td>4</td>\n",
       "      <td>5</td>\n",
       "      <td>1243900800</td>\n",
       "      <td>HOT!  And good!  Came back for more  :)</td>\n",
       "      <td>Got a free package of these with a bottle of b...</td>\n",
       "    </tr>\n",
       "    <tr>\n",
       "      <th>52</th>\n",
       "      <td>53</td>\n",
       "      <td>B000G6RPMY</td>\n",
       "      <td>A9L6L5H9BPEBO</td>\n",
       "      <td>Edwin C. Pauzer</td>\n",
       "      <td>1</td>\n",
       "      <td>1</td>\n",
       "      <td>4</td>\n",
       "      <td>1348876800</td>\n",
       "      <td>You'll go nuts over Ass-Kickin' Peanuts.</td>\n",
       "      <td>This wasn't in stock the last time I looked. I...</td>\n",
       "    </tr>\n",
       "    <tr>\n",
       "      <th>53</th>\n",
       "      <td>54</td>\n",
       "      <td>B000G6RPMY</td>\n",
       "      <td>AQ9DWWYP2KJCQ</td>\n",
       "      <td>Roel Trevino \"protomex\"</td>\n",
       "      <td>0</td>\n",
       "      <td>0</td>\n",
       "      <td>3</td>\n",
       "      <td>1278028800</td>\n",
       "      <td>not ass kickin</td>\n",
       "      <td>we're used to spicy foods down here in south t...</td>\n",
       "    </tr>\n",
       "    <tr>\n",
       "      <th>384</th>\n",
       "      <td>385</td>\n",
       "      <td>B004AVYUOW</td>\n",
       "      <td>A1ZZMVHSLQSE7R</td>\n",
       "      <td>Murdy</td>\n",
       "      <td>1</td>\n",
       "      <td>1</td>\n",
       "      <td>5</td>\n",
       "      <td>1325376000</td>\n",
       "      <td>The Best</td>\n",
       "      <td>If you are a peanut lover, these are for you. ...</td>\n",
       "    </tr>\n",
       "    <tr>\n",
       "      <th>1295</th>\n",
       "      <td>1296</td>\n",
       "      <td>B001FA1L7U</td>\n",
       "      <td>A3CP4FB1CZCRW3</td>\n",
       "      <td>A. Simonian</td>\n",
       "      <td>2</td>\n",
       "      <td>2</td>\n",
       "      <td>5</td>\n",
       "      <td>1181001600</td>\n",
       "      <td>u talked me into it  mr. beer nut</td>\n",
       "      <td>I was just messing around on amazon when I ran...</td>\n",
       "    </tr>\n",
       "    <tr>\n",
       "      <th>1296</th>\n",
       "      <td>1297</td>\n",
       "      <td>B001FA1L7U</td>\n",
       "      <td>A1NXGRAQROM9AL</td>\n",
       "      <td>Michael W. Plum</td>\n",
       "      <td>2</td>\n",
       "      <td>2</td>\n",
       "      <td>5</td>\n",
       "      <td>1165968000</td>\n",
       "      <td>mmmmmmmm...beer...nuts!</td>\n",
       "      <td>i used to eat beer nuts all the time as a kid....</td>\n",
       "    </tr>\n",
       "    <tr>\n",
       "      <th>1297</th>\n",
       "      <td>1298</td>\n",
       "      <td>B001FA1L7U</td>\n",
       "      <td>A3AEB0UGBHU44M</td>\n",
       "      <td>jim k</td>\n",
       "      <td>1</td>\n",
       "      <td>1</td>\n",
       "      <td>5</td>\n",
       "      <td>1348099200</td>\n",
       "      <td>jgk likes beer nuts</td>\n",
       "      <td>great product! wish they were still available ...</td>\n",
       "    </tr>\n",
       "    <tr>\n",
       "      <th>1298</th>\n",
       "      <td>1299</td>\n",
       "      <td>B001FA1L7U</td>\n",
       "      <td>AECDRQB9XVYB4</td>\n",
       "      <td>T. E. Lawson \"filmflam\"</td>\n",
       "      <td>1</td>\n",
       "      <td>1</td>\n",
       "      <td>5</td>\n",
       "      <td>1318809600</td>\n",
       "      <td>Just as I remembered.</td>\n",
       "      <td>Some reviewers must have a short memory. I've ...</td>\n",
       "    </tr>\n",
       "    <tr>\n",
       "      <th>1299</th>\n",
       "      <td>1300</td>\n",
       "      <td>B001FA1L7U</td>\n",
       "      <td>A26IDKJAMW7IH8</td>\n",
       "      <td>RICHARD M WING</td>\n",
       "      <td>1</td>\n",
       "      <td>1</td>\n",
       "      <td>4</td>\n",
       "      <td>1309737600</td>\n",
       "      <td>Mild Sweet And Salty Blend</td>\n",
       "      <td>After a second purchase of a 12-oz Beer Nuts P...</td>\n",
       "    </tr>\n",
       "    <tr>\n",
       "      <th>1300</th>\n",
       "      <td>1301</td>\n",
       "      <td>B001FA1L7U</td>\n",
       "      <td>A6IL98GAOECR5</td>\n",
       "      <td>Pam Stone</td>\n",
       "      <td>1</td>\n",
       "      <td>1</td>\n",
       "      <td>5</td>\n",
       "      <td>1307491200</td>\n",
       "      <td>great customer service</td>\n",
       "      <td>this is the second time ordering beer nuts.......</td>\n",
       "    </tr>\n",
       "    <tr>\n",
       "      <th>1301</th>\n",
       "      <td>1302</td>\n",
       "      <td>B001FA1L7U</td>\n",
       "      <td>A2SAMAD4Y3UCT0</td>\n",
       "      <td>ROSE</td>\n",
       "      <td>1</td>\n",
       "      <td>1</td>\n",
       "      <td>5</td>\n",
       "      <td>1305504000</td>\n",
       "      <td>Hard to find Beer Nuts</td>\n",
       "      <td>My husband is a Beer Nut lover. Looked in many...</td>\n",
       "    </tr>\n",
       "    <tr>\n",
       "      <th>1302</th>\n",
       "      <td>1303</td>\n",
       "      <td>B001FA1L7U</td>\n",
       "      <td>ARDU0AO7974KW</td>\n",
       "      <td>G. Swart</td>\n",
       "      <td>1</td>\n",
       "      <td>1</td>\n",
       "      <td>4</td>\n",
       "      <td>1281225600</td>\n",
       "      <td>Beer Nuts</td>\n",
       "      <td>I am 76 years old and I have eaten these nuts ...</td>\n",
       "    </tr>\n",
       "    <tr>\n",
       "      <th>1303</th>\n",
       "      <td>1304</td>\n",
       "      <td>B001FA1L7U</td>\n",
       "      <td>A1W655J5ZE1Z33</td>\n",
       "      <td>Ken VanderPloeg</td>\n",
       "      <td>1</td>\n",
       "      <td>1</td>\n",
       "      <td>5</td>\n",
       "      <td>1256515200</td>\n",
       "      <td>The Best!</td>\n",
       "      <td>Not always available at our local stores. I lo...</td>\n",
       "    </tr>\n",
       "    <tr>\n",
       "      <th>1304</th>\n",
       "      <td>1305</td>\n",
       "      <td>B001FA1L7U</td>\n",
       "      <td>A2YQJ44XCVYT0M</td>\n",
       "      <td>Paul J. Ste Marie</td>\n",
       "      <td>1</td>\n",
       "      <td>1</td>\n",
       "      <td>5</td>\n",
       "      <td>1200096000</td>\n",
       "      <td>Salty with a hint of sweetness</td>\n",
       "      <td>These are the long time classic.  Not as sweet...</td>\n",
       "    </tr>\n",
       "    <tr>\n",
       "      <th>1305</th>\n",
       "      <td>1306</td>\n",
       "      <td>B001FA1L7U</td>\n",
       "      <td>A3V9TJMGP2RNU3</td>\n",
       "      <td>J. Forrest \"cranky codger\"</td>\n",
       "      <td>2</td>\n",
       "      <td>3</td>\n",
       "      <td>2</td>\n",
       "      <td>1191196800</td>\n",
       "      <td>What Happened</td>\n",
       "      <td>I remember well the \"Beer Nuts\" I used to savo...</td>\n",
       "    </tr>\n",
       "    <tr>\n",
       "      <th>1306</th>\n",
       "      <td>1307</td>\n",
       "      <td>B001FA1L7U</td>\n",
       "      <td>A3L8MP3YA6U4R5</td>\n",
       "      <td>THUNDER</td>\n",
       "      <td>0</td>\n",
       "      <td>0</td>\n",
       "      <td>1</td>\n",
       "      <td>1264809600</td>\n",
       "      <td>beer nuts</td>\n",
       "      <td>I ATE BEER NUTS ALL THROUGH MY CHILDHOOD YEARS...</td>\n",
       "    </tr>\n",
       "    <tr>\n",
       "      <th>1307</th>\n",
       "      <td>1308</td>\n",
       "      <td>B001FA1L7U</td>\n",
       "      <td>A37XRRE5STW4IV</td>\n",
       "      <td>P. Noga</td>\n",
       "      <td>0</td>\n",
       "      <td>1</td>\n",
       "      <td>1</td>\n",
       "      <td>1344038400</td>\n",
       "      <td>The flavor is gone</td>\n",
       "      <td>The flavor of the old Beer Nuts is almost enti...</td>\n",
       "    </tr>\n",
       "    <tr>\n",
       "      <th>1308</th>\n",
       "      <td>1309</td>\n",
       "      <td>B001FA1L7U</td>\n",
       "      <td>A3F2Y0NIGB5ZVR</td>\n",
       "      <td>Thomas Foster</td>\n",
       "      <td>0</td>\n",
       "      <td>1</td>\n",
       "      <td>1</td>\n",
       "      <td>1253577600</td>\n",
       "      <td>Not my best experience</td>\n",
       "      <td>It is not the best way to buy Beer Nuts.&lt;br /&gt;...</td>\n",
       "    </tr>\n",
       "    <tr>\n",
       "      <th>2958</th>\n",
       "      <td>2959</td>\n",
       "      <td>B0047LRBX2</td>\n",
       "      <td>A1U77IUXU7VZ85</td>\n",
       "      <td>D. P. Wright \"If it ain't broke, I'm gonna fi...</td>\n",
       "      <td>0</td>\n",
       "      <td>0</td>\n",
       "      <td>5</td>\n",
       "      <td>1294444800</td>\n",
       "      <td>Great Peanuts!</td>\n",
       "      <td>Wifey bought these for me for Christmas.  I us...</td>\n",
       "    </tr>\n",
       "    <tr>\n",
       "      <th>3549</th>\n",
       "      <td>3550</td>\n",
       "      <td>B000CMFMG8</td>\n",
       "      <td>A2DECS1XIR6OKZ</td>\n",
       "      <td>Lawrence S. Cohen \"Screaming Brandshee\"</td>\n",
       "      <td>0</td>\n",
       "      <td>0</td>\n",
       "      <td>4</td>\n",
       "      <td>1187136000</td>\n",
       "      <td>Pschologically better than peanuts</td>\n",
       "      <td>Somehow I feel healtier eating these things in...</td>\n",
       "    </tr>\n",
       "    <tr>\n",
       "      <th>5029</th>\n",
       "      <td>5030</td>\n",
       "      <td>B001EO6BCC</td>\n",
       "      <td>A2ZGYWO4I208XD</td>\n",
       "      <td>dazedandconfused</td>\n",
       "      <td>4</td>\n",
       "      <td>4</td>\n",
       "      <td>1</td>\n",
       "      <td>1310947200</td>\n",
       "      <td>do not buy these</td>\n",
       "      <td>most of the nuts in these bags were so old the...</td>\n",
       "    </tr>\n",
       "    <tr>\n",
       "      <th>5030</th>\n",
       "      <td>5031</td>\n",
       "      <td>B001EO6BCC</td>\n",
       "      <td>A2FBWT8OZ3QLQM</td>\n",
       "      <td>T. R. Salinsky \"Jolly Otter Pioneer\"</td>\n",
       "      <td>5</td>\n",
       "      <td>6</td>\n",
       "      <td>1</td>\n",
       "      <td>1230422400</td>\n",
       "      <td>terrible</td>\n",
       "      <td>I did not even receive the correct product, wh...</td>\n",
       "    </tr>\n",
       "    <tr>\n",
       "      <th>5031</th>\n",
       "      <td>5032</td>\n",
       "      <td>B001EO6BCC</td>\n",
       "      <td>A3JJADE60Q02SW</td>\n",
       "      <td>Inez G. Simmons \"Peaches\"</td>\n",
       "      <td>3</td>\n",
       "      <td>4</td>\n",
       "      <td>3</td>\n",
       "      <td>1228348800</td>\n",
       "      <td>Incorrect Order</td>\n",
       "      <td>&lt;a href=\"http://www.amazon.com/gp/product/B001...</td>\n",
       "    </tr>\n",
       "    <tr>\n",
       "      <th>5032</th>\n",
       "      <td>5033</td>\n",
       "      <td>B001EO6BCC</td>\n",
       "      <td>A33CC2N1FGBY5T</td>\n",
       "      <td>Lora Ci \"LC\"</td>\n",
       "      <td>2</td>\n",
       "      <td>4</td>\n",
       "      <td>1</td>\n",
       "      <td>1256860800</td>\n",
       "      <td>Very poor service</td>\n",
       "      <td>I would agree with the other poor ratings for ...</td>\n",
       "    </tr>\n",
       "  </tbody>\n",
       "</table>\n",
       "</div>"
      ],
      "text/plain": [
       "        Id   ProductId          UserId  \\\n",
       "1        2  B00813GRG4  A1D87F6ZCVE5NK   \n",
       "51      52  B000G6RPMY  A3S5KJDA6ED2PS   \n",
       "52      53  B000G6RPMY   A9L6L5H9BPEBO   \n",
       "53      54  B000G6RPMY   AQ9DWWYP2KJCQ   \n",
       "384    385  B004AVYUOW  A1ZZMVHSLQSE7R   \n",
       "1295  1296  B001FA1L7U  A3CP4FB1CZCRW3   \n",
       "1296  1297  B001FA1L7U  A1NXGRAQROM9AL   \n",
       "1297  1298  B001FA1L7U  A3AEB0UGBHU44M   \n",
       "1298  1299  B001FA1L7U   AECDRQB9XVYB4   \n",
       "1299  1300  B001FA1L7U  A26IDKJAMW7IH8   \n",
       "1300  1301  B001FA1L7U   A6IL98GAOECR5   \n",
       "1301  1302  B001FA1L7U  A2SAMAD4Y3UCT0   \n",
       "1302  1303  B001FA1L7U   ARDU0AO7974KW   \n",
       "1303  1304  B001FA1L7U  A1W655J5ZE1Z33   \n",
       "1304  1305  B001FA1L7U  A2YQJ44XCVYT0M   \n",
       "1305  1306  B001FA1L7U  A3V9TJMGP2RNU3   \n",
       "1306  1307  B001FA1L7U  A3L8MP3YA6U4R5   \n",
       "1307  1308  B001FA1L7U  A37XRRE5STW4IV   \n",
       "1308  1309  B001FA1L7U  A3F2Y0NIGB5ZVR   \n",
       "2958  2959  B0047LRBX2  A1U77IUXU7VZ85   \n",
       "3549  3550  B000CMFMG8  A2DECS1XIR6OKZ   \n",
       "5029  5030  B001EO6BCC  A2ZGYWO4I208XD   \n",
       "5030  5031  B001EO6BCC  A2FBWT8OZ3QLQM   \n",
       "5031  5032  B001EO6BCC  A3JJADE60Q02SW   \n",
       "5032  5033  B001EO6BCC  A33CC2N1FGBY5T   \n",
       "\n",
       "                                           ProfileName  HelpfulnessNumerator  \\\n",
       "1                                               dll pa                     0   \n",
       "51                                          Mike Kaser                     4   \n",
       "52                                     Edwin C. Pauzer                     1   \n",
       "53                             Roel Trevino \"protomex\"                     0   \n",
       "384                                              Murdy                     1   \n",
       "1295                                       A. Simonian                     2   \n",
       "1296                                   Michael W. Plum                     2   \n",
       "1297                                             jim k                     1   \n",
       "1298                           T. E. Lawson \"filmflam\"                     1   \n",
       "1299                                    RICHARD M WING                     1   \n",
       "1300                                         Pam Stone                     1   \n",
       "1301                                              ROSE                     1   \n",
       "1302                                          G. Swart                     1   \n",
       "1303                                   Ken VanderPloeg                     1   \n",
       "1304                                 Paul J. Ste Marie                     1   \n",
       "1305                        J. Forrest \"cranky codger\"                     2   \n",
       "1306                                           THUNDER                     0   \n",
       "1307                                           P. Noga                     0   \n",
       "1308                                     Thomas Foster                     0   \n",
       "2958  D. P. Wright \"If it ain't broke, I'm gonna fi...                     0   \n",
       "3549           Lawrence S. Cohen \"Screaming Brandshee\"                     0   \n",
       "5029                                  dazedandconfused                     4   \n",
       "5030              T. R. Salinsky \"Jolly Otter Pioneer\"                     5   \n",
       "5031                         Inez G. Simmons \"Peaches\"                     3   \n",
       "5032                                      Lora Ci \"LC\"                     2   \n",
       "\n",
       "      HelpfulnessDenominator  Score        Time  \\\n",
       "1                          0      1  1346976000   \n",
       "51                         4      5  1243900800   \n",
       "52                         1      4  1348876800   \n",
       "53                         0      3  1278028800   \n",
       "384                        1      5  1325376000   \n",
       "1295                       2      5  1181001600   \n",
       "1296                       2      5  1165968000   \n",
       "1297                       1      5  1348099200   \n",
       "1298                       1      5  1318809600   \n",
       "1299                       1      4  1309737600   \n",
       "1300                       1      5  1307491200   \n",
       "1301                       1      5  1305504000   \n",
       "1302                       1      4  1281225600   \n",
       "1303                       1      5  1256515200   \n",
       "1304                       1      5  1200096000   \n",
       "1305                       3      2  1191196800   \n",
       "1306                       0      1  1264809600   \n",
       "1307                       1      1  1344038400   \n",
       "1308                       1      1  1253577600   \n",
       "2958                       0      5  1294444800   \n",
       "3549                       0      4  1187136000   \n",
       "5029                       4      1  1310947200   \n",
       "5030                       6      1  1230422400   \n",
       "5031                       4      3  1228348800   \n",
       "5032                       4      1  1256860800   \n",
       "\n",
       "                                       Summary  \\\n",
       "1                            Not as Advertised   \n",
       "51     HOT!  And good!  Came back for more  :)   \n",
       "52    You'll go nuts over Ass-Kickin' Peanuts.   \n",
       "53                              not ass kickin   \n",
       "384                                   The Best   \n",
       "1295         u talked me into it  mr. beer nut   \n",
       "1296                   mmmmmmmm...beer...nuts!   \n",
       "1297                       jgk likes beer nuts   \n",
       "1298                     Just as I remembered.   \n",
       "1299                Mild Sweet And Salty Blend   \n",
       "1300                    great customer service   \n",
       "1301                    Hard to find Beer Nuts   \n",
       "1302                                 Beer Nuts   \n",
       "1303                                 The Best!   \n",
       "1304            Salty with a hint of sweetness   \n",
       "1305                             What Happened   \n",
       "1306                                 beer nuts   \n",
       "1307                        The flavor is gone   \n",
       "1308                    Not my best experience   \n",
       "2958                            Great Peanuts!   \n",
       "3549        Pschologically better than peanuts   \n",
       "5029                          do not buy these   \n",
       "5030                                  terrible   \n",
       "5031                           Incorrect Order   \n",
       "5032                         Very poor service   \n",
       "\n",
       "                                                   Text  \n",
       "1     Product arrived labeled as Jumbo Salted Peanut...  \n",
       "51    Got a free package of these with a bottle of b...  \n",
       "52    This wasn't in stock the last time I looked. I...  \n",
       "53    we're used to spicy foods down here in south t...  \n",
       "384   If you are a peanut lover, these are for you. ...  \n",
       "1295  I was just messing around on amazon when I ran...  \n",
       "1296  i used to eat beer nuts all the time as a kid....  \n",
       "1297  great product! wish they were still available ...  \n",
       "1298  Some reviewers must have a short memory. I've ...  \n",
       "1299  After a second purchase of a 12-oz Beer Nuts P...  \n",
       "1300  this is the second time ordering beer nuts.......  \n",
       "1301  My husband is a Beer Nut lover. Looked in many...  \n",
       "1302  I am 76 years old and I have eaten these nuts ...  \n",
       "1303  Not always available at our local stores. I lo...  \n",
       "1304  These are the long time classic.  Not as sweet...  \n",
       "1305  I remember well the \"Beer Nuts\" I used to savo...  \n",
       "1306  I ATE BEER NUTS ALL THROUGH MY CHILDHOOD YEARS...  \n",
       "1307  The flavor of the old Beer Nuts is almost enti...  \n",
       "1308  It is not the best way to buy Beer Nuts.<br />...  \n",
       "2958  Wifey bought these for me for Christmas.  I us...  \n",
       "3549  Somehow I feel healtier eating these things in...  \n",
       "5029  most of the nuts in these bags were so old the...  \n",
       "5030  I did not even receive the correct product, wh...  \n",
       "5031  <a href=\"http://www.amazon.com/gp/product/B001...  \n",
       "5032  I would agree with the other poor ratings for ...  "
      ]
     },
     "execution_count": 53,
     "metadata": {},
     "output_type": "execute_result"
    }
   ],
   "source": [
    "reviews[(reviews.ProductId == 'B00813GRG4') | \n",
    "            (reviews.ProductId == 'B000CMFMG8') |\n",
    "           (reviews.ProductId == 'B0047LRBX2') | \n",
    "           (reviews.ProductId == 'B001EO6BCC') |\n",
    "           (reviews.ProductId == 'B000G6RPMY') |\n",
    "           (reviews.ProductId == 'B001FA1L7U') |\n",
    "           (reviews.ProductId == 'B004AVYUOW')]"
   ]
  },
  {
   "cell_type": "markdown",
   "metadata": {},
   "source": [
    "Stuff after this is useless:"
   ]
  },
  {
   "cell_type": "code",
   "execution_count": 5,
   "metadata": {
    "collapsed": false
   },
   "outputs": [],
   "source": [
    "#can't train on too large of a subset of the data on my computer, use first 10000\n",
    "\n",
    "reviews1 = reviews.ix[0:10000].dropna()\n",
    "vectorizer = CountVectorizer(stop_words= 'english', min_df=4)\n",
    "text = reviews1['Text'].values + ' ' + reviews1['Summary'].values\n",
    "vectorizer.fit(text)\n",
    "x = vectorizer.fit_transform(text)\n",
    "x = x.toarray( )\n",
    "features = vectorizer.get_feature_names() \n",
    "features = np.array(features)"
   ]
  },
  {
   "cell_type": "code",
   "execution_count": 6,
   "metadata": {
    "collapsed": false
   },
   "outputs": [],
   "source": [
    "#input: product ID\n",
    "#output: sparse vector based on vectorizer\n",
    "\n",
    "def to_vector(product_id):\n",
    "    temp = reviews[reviews.ProductId == product_id]\n",
    "    text = list(temp['Text'].values + ' ' + temp['Summary'].values)\n",
    "    new_string = np.array([''.join(text)]).reshape(1,)\n",
    "    return vectorizer.transform(new_string).toarray()\n",
    "\n",
    "def to_words(product_id):\n",
    "    temp = reviews[reviews.ProductId == product_id]\n",
    "    text = list(temp['Text'].astype(str).values + ' ' + temp['Summary'].astype(str).values)\n",
    "    return np.array([''.join(text)]).reshape(1,)\n",
    "\n",
    "\n",
    "\n",
    "    "
   ]
  },
  {
   "cell_type": "code",
   "execution_count": 6,
   "metadata": {
    "collapsed": true
   },
   "outputs": [],
   "source": [
    "def similarity(product1,product2):\n",
    "    vector1 = vectorizer.transform(product1)\n",
    "    vector2 = vectorizer.transform(product2)\n",
    "    #do some cosine thing -- > closer to 1 is closer in distance\n",
    "    #might need to transform to lower dimensional space"
   ]
  },
  {
   "cell_type": "code",
   "execution_count": 7,
   "metadata": {
    "collapsed": true
   },
   "outputs": [],
   "source": [
    "#One approach to reduce dimensionality is k means clustering, similarity can be computed through\n",
    "#distance between histograms\n",
    "\n",
    "def make_cluster(k,vector):\n",
    "    bagofwords= kmeans(vector,n)\n",
    "    return bagofwords[0]\n",
    "def hist(vector,cluster):\n",
    "    p = vq(vector,cluster)\n",
    "    labels = p[0]\n",
    "    hist,bins = np.histogram(labels,bins=np.arange(-.5,200,1))\n",
    "    return hist"
   ]
  },
  {
   "cell_type": "code",
   "execution_count": 8,
   "metadata": {
    "collapsed": false
   },
   "outputs": [],
   "source": [
    "#Only use the first 1000 products for now - too slow\n",
    "df_products = pd.DataFrame(index = unique_products[0:100], columns = unique_products[0:100])"
   ]
  },
  {
   "cell_type": "code",
   "execution_count": 42,
   "metadata": {
    "collapsed": false
   },
   "outputs": [],
   "source": [
    "a = to_vector(unique_products[2])"
   ]
  },
  {
   "cell_type": "code",
   "execution_count": 50,
   "metadata": {
    "collapsed": false
   },
   "outputs": [
    {
     "data": {
      "text/plain": [
       "array([[0, 0, 0, ..., 0, 0, 0]])"
      ]
     },
     "execution_count": 50,
     "metadata": {},
     "output_type": "execute_result"
    }
   ],
   "source": [
    "cluster= make_cluster(50,)"
   ]
  },
  {
   "cell_type": "code",
   "execution_count": 17,
   "metadata": {
    "collapsed": false
   },
   "outputs": [
    {
     "data": {
      "text/plain": [
       "(10001, 6469)"
      ]
     },
     "execution_count": 17,
     "metadata": {},
     "output_type": "execute_result"
    }
   ],
   "source": [
    "x.shape"
   ]
  },
  {
   "cell_type": "code",
   "execution_count": null,
   "metadata": {
    "collapsed": true
   },
   "outputs": [],
   "source": []
  }
 ],
 "metadata": {
  "anaconda-cloud": {},
  "kernelspec": {
   "display_name": "Python [Root]",
   "language": "python",
   "name": "Python [Root]"
  },
  "language_info": {
   "codemirror_mode": {
    "name": "ipython",
    "version": 2
   },
   "file_extension": ".py",
   "mimetype": "text/x-python",
   "name": "python",
   "nbconvert_exporter": "python",
   "pygments_lexer": "ipython2",
   "version": "2.7.11"
  }
 },
 "nbformat": 4,
 "nbformat_minor": 0
}
