{
 "cells": [
  {
   "cell_type": "code",
   "execution_count": 1,
   "metadata": {
    "collapsed": true
   },
   "outputs": [],
   "source": [
    "import numpy as np\n",
    "import matplotlib\n",
    "import matplotlib.pyplot as plt\n",
    "from mpl_toolkits.mplot3d import Axes3D\n",
    "import matplotlib.cm as cmx\n",
    "import matplotlib.colors as colors\n",
    "import pandas as pd\n",
    "from sklearn.linear_model import LogisticRegression as LogReg\n",
    "from sklearn.feature_extraction.text import CountVectorizer\n",
    "from sklearn.neighbors import KNeighborsClassifier as KNN\n",
    "from sklearn.decomposition import PCA\n",
    "from sklearn.feature_extraction.text import CountVectorizer\n",
    "from sklearn.neighbors import KNeighborsClassifier as KNN\n",
    "from sklearn.cluster import KMeans\n",
    "import sklearn.ensemble as ensemble\n",
    "%matplotlib inline"
   ]
  },
  {
   "cell_type": "code",
   "execution_count": 2,
   "metadata": {
    "collapsed": false
   },
   "outputs": [
    {
     "name": "stderr",
     "output_type": "stream",
     "text": [
      "/anaconda/lib/python2.7/site-packages/ipykernel/__main__.py:3: SettingWithCopyWarning: \n",
      "A value is trying to be set on a copy of a slice from a DataFrame.\n",
      "Try using .loc[row_indexer,col_indexer] = value instead\n",
      "\n",
      "See the caveats in the documentation: http://pandas.pydata.org/pandas-docs/stable/indexing.html#indexing-view-versus-copy\n",
      "  app.launch_new_instance()\n"
     ]
    }
   ],
   "source": [
    "reviews =pd.read_csv('Reviews.csv')\n",
    "relevant = reviews[['Score','Summary','Text']]\n",
    "relevant['Words'] = relevant['Summary'] + ' ' +  relevant['Text']"
   ]
  },
  {
   "cell_type": "code",
   "execution_count": 3,
   "metadata": {
    "collapsed": false
   },
   "outputs": [],
   "source": [
    "relevant1 = relevant.ix[0:10000].dropna()\n",
    "vectorizer = CountVectorizer(ngram_range = (1,3), stop_words= 'english', min_df=4)\n",
    "text = relevant1['Text'].values + ' ' + relevant1['Summary'].values\n",
    "vectorizer.fit(text)\n",
    "x = vectorizer.fit_transform(text)\n",
    "x = x.toarray( )\n",
    "features = vectorizer.get_feature_names() \n",
    "features = np.array(features)"
   ]
  },
  {
   "cell_type": "code",
   "execution_count": 5,
   "metadata": {
    "collapsed": false
   },
   "outputs": [],
   "source": [
    "y = relevant1.Score.values"
   ]
  },
  {
   "cell_type": "code",
   "execution_count": 6,
   "metadata": {
    "collapsed": false
   },
   "outputs": [],
   "source": [
    "perm = np.random.permutation(len(y))\n",
    "train = perm[0:5000]\n",
    "test = perm[5000:]\n",
    "x_train = x[train]\n",
    "x_test = x[test]\n",
    "y_train = y[train]\n",
    "y_test= y[test]"
   ]
  },
  {
   "cell_type": "code",
   "execution_count": 7,
   "metadata": {
    "collapsed": true
   },
   "outputs": [],
   "source": [
    "#initialize random forest\n",
    "MAX_FEATURES = 'auto'\n",
    "N_ESTIMATORS = 75\n",
    "MAX_DEPTH = None \n",
    "RF = ensemble.RandomForestClassifier(n_estimators = N_ESTIMATORS, max_features = MAX_FEATURES, max_depth = MAX_DEPTH,\n",
    "                                     oob_score =True)"
   ]
  },
  {
   "cell_type": "code",
   "execution_count": 24,
   "metadata": {
    "collapsed": false
   },
   "outputs": [
    {
     "data": {
      "text/plain": [
       "0.67166566686662665"
      ]
     },
     "execution_count": 24,
     "metadata": {},
     "output_type": "execute_result"
    }
   ],
   "source": [
    "RF.fit(x_train,y_train)\n",
    "RF.score(x_test,y_test)"
   ]
  },
  {
   "cell_type": "code",
   "execution_count": 25,
   "metadata": {
    "collapsed": false
   },
   "outputs": [
    {
     "data": {
      "text/plain": [
       "0.67100000000000004"
      ]
     },
     "execution_count": 25,
     "metadata": {},
     "output_type": "execute_result"
    }
   ],
   "source": [
    "RF.oob_score_"
   ]
  },
  {
   "cell_type": "code",
   "execution_count": 32,
   "metadata": {
    "collapsed": false
   },
   "outputs": [
    {
     "name": "stdout",
     "output_type": "stream",
     "text": [
      "Score for  1 :  0.278825995807\n",
      "Score for  2 :  0.114093959732\n",
      "Score for  3 :  0.170022371365\n",
      "Score for  4 :  0.0896159317212\n",
      "Score for  5 :  0.992522756827\n"
     ]
    }
   ],
   "source": [
    "for i in range(1,6):\n",
    "    print 'Score for', ' ' + str(i) + ' : ',RF.score(x_test[y_test==i],y_test[y_test==i])"
   ]
  },
  {
   "cell_type": "markdown",
   "metadata": {},
   "source": [
    "Note most are 5s "
   ]
  },
  {
   "cell_type": "code",
   "execution_count": 30,
   "metadata": {
    "collapsed": false
   },
   "outputs": [
    {
     "data": {
      "text/plain": [
       "0.6150769846030794"
      ]
     },
     "execution_count": 30,
     "metadata": {},
     "output_type": "execute_result"
    }
   ],
   "source": [
    "len(y_test[y_test == 5])/float(len(y_test))"
   ]
  },
  {
   "cell_type": "markdown",
   "metadata": {},
   "source": [
    "Allowing for tuning"
   ]
  },
  {
   "cell_type": "code",
   "execution_count": 58,
   "metadata": {
    "collapsed": false
   },
   "outputs": [
    {
     "data": {
      "text/plain": [
       "RandomForestClassifier(bootstrap=True, class_weight='balanced',\n",
       "            criterion='gini', max_depth=None, max_features='auto',\n",
       "            max_leaf_nodes=None, min_samples_leaf=1, min_samples_split=2,\n",
       "            min_weight_fraction_leaf=0.0, n_estimators=75, n_jobs=1,\n",
       "            oob_score=True, random_state=None, verbose=0, warm_start=False)"
      ]
     },
     "execution_count": 58,
     "metadata": {},
     "output_type": "execute_result"
    }
   ],
   "source": [
    "RF = ensemble.RandomForestClassifier(n_estimators = N_ESTIMATORS, max_features = MAX_FEATURES, max_depth = MAX_DEPTH,\n",
    "                                     oob_score =True, class_weight='balanced')\n",
    "RF.fit(x_train,y_train)"
   ]
  },
  {
   "cell_type": "code",
   "execution_count": 59,
   "metadata": {
    "collapsed": false
   },
   "outputs": [
    {
     "name": "stdout",
     "output_type": "stream",
     "text": [
      "0.665466906619\n",
      "Score for  1 :  0.283018867925\n",
      "Score for  2 :  0.0973154362416\n",
      "Score for  3 :  0.111856823266\n",
      "Score for  4 :  0.0753911806543\n",
      "Score for  5 :  0.995123537061\n"
     ]
    }
   ],
   "source": [
    "print RF.score(x_test,y_test)\n",
    "for i in range(1,6):\n",
    "    print 'Score for', ' ' + str(i) + ' : ',RF.score(x_test[y_test==i],y_test[y_test==i])"
   ]
  },
  {
   "cell_type": "code",
   "execution_count": 37,
   "metadata": {
    "collapsed": false
   },
   "outputs": [
    {
     "data": {
      "text/plain": [
       "0.66739999999999999"
      ]
     },
     "execution_count": 37,
     "metadata": {},
     "output_type": "execute_result"
    }
   ],
   "source": [
    "RF.oob_score_"
   ]
  },
  {
   "cell_type": "code",
   "execution_count": 60,
   "metadata": {
    "collapsed": false
   },
   "outputs": [
    {
     "data": {
      "text/plain": [
       "array([u'great', u'good', u'best', u'love', u'ok', u'like', u'worst',\n",
       "       u'disappointed', u'taste', u'terrible'], \n",
       "      dtype='<U32')"
      ]
     },
     "execution_count": 60,
     "metadata": {},
     "output_type": "execute_result"
    }
   ],
   "source": [
    "features[RF.feature_importances_.argsort()[-10:][::-1]]"
   ]
  },
  {
   "cell_type": "code",
   "execution_count": 8,
   "metadata": {
    "collapsed": false
   },
   "outputs": [
    {
     "name": "stderr",
     "output_type": "stream",
     "text": [
      "/anaconda/lib/python2.7/site-packages/ipykernel/__main__.py:6: SettingWithCopyWarning: \n",
      "A value is trying to be set on a copy of a slice from a DataFrame.\n",
      "Try using .loc[row_indexer,col_indexer] = value instead\n",
      "\n",
      "See the caveats in the documentation: http://pandas.pydata.org/pandas-docs/stable/indexing.html#indexing-view-versus-copy\n"
     ]
    }
   ],
   "source": [
    "def get_sentiment(integer):\n",
    "    if integer>3.5:\n",
    "        return 1\n",
    "    else:\n",
    "        return 0\n",
    "relevant['Sentiment'] = map(lambda x: get_sentiment(x),relevant.Score)"
   ]
  },
  {
   "cell_type": "code",
   "execution_count": 67,
   "metadata": {
    "collapsed": false
   },
   "outputs": [
    {
     "data": {
      "text/html": [
       "<div>\n",
       "<table border=\"1\" class=\"dataframe\">\n",
       "  <thead>\n",
       "    <tr style=\"text-align: right;\">\n",
       "      <th></th>\n",
       "      <th>Score</th>\n",
       "      <th>Summary</th>\n",
       "      <th>Text</th>\n",
       "      <th>Words</th>\n",
       "      <th>Sentiment</th>\n",
       "    </tr>\n",
       "  </thead>\n",
       "  <tbody>\n",
       "    <tr>\n",
       "      <th>0</th>\n",
       "      <td>5</td>\n",
       "      <td>Good Quality Dog Food</td>\n",
       "      <td>I have bought several of the Vitality canned d...</td>\n",
       "      <td>Good Quality Dog Food I have bought several of...</td>\n",
       "      <td>1</td>\n",
       "    </tr>\n",
       "    <tr>\n",
       "      <th>1</th>\n",
       "      <td>1</td>\n",
       "      <td>Not as Advertised</td>\n",
       "      <td>Product arrived labeled as Jumbo Salted Peanut...</td>\n",
       "      <td>Not as Advertised Product arrived labeled as J...</td>\n",
       "      <td>0</td>\n",
       "    </tr>\n",
       "    <tr>\n",
       "      <th>2</th>\n",
       "      <td>4</td>\n",
       "      <td>\"Delight\" says it all</td>\n",
       "      <td>This is a confection that has been around a fe...</td>\n",
       "      <td>\"Delight\" says it all This is a confection tha...</td>\n",
       "      <td>1</td>\n",
       "    </tr>\n",
       "    <tr>\n",
       "      <th>3</th>\n",
       "      <td>2</td>\n",
       "      <td>Cough Medicine</td>\n",
       "      <td>If you are looking for the secret ingredient i...</td>\n",
       "      <td>Cough Medicine If you are looking for the secr...</td>\n",
       "      <td>0</td>\n",
       "    </tr>\n",
       "    <tr>\n",
       "      <th>4</th>\n",
       "      <td>5</td>\n",
       "      <td>Great taffy</td>\n",
       "      <td>Great taffy at a great price.  There was a wid...</td>\n",
       "      <td>Great taffy Great taffy at a great price.  The...</td>\n",
       "      <td>1</td>\n",
       "    </tr>\n",
       "    <tr>\n",
       "      <th>5</th>\n",
       "      <td>4</td>\n",
       "      <td>Nice Taffy</td>\n",
       "      <td>I got a wild hair for taffy and ordered this f...</td>\n",
       "      <td>Nice Taffy I got a wild hair for taffy and ord...</td>\n",
       "      <td>1</td>\n",
       "    </tr>\n",
       "    <tr>\n",
       "      <th>6</th>\n",
       "      <td>5</td>\n",
       "      <td>Great!  Just as good as the expensive brands!</td>\n",
       "      <td>This saltwater taffy had great flavors and was...</td>\n",
       "      <td>Great!  Just as good as the expensive brands! ...</td>\n",
       "      <td>1</td>\n",
       "    </tr>\n",
       "    <tr>\n",
       "      <th>7</th>\n",
       "      <td>5</td>\n",
       "      <td>Wonderful, tasty taffy</td>\n",
       "      <td>This taffy is so good.  It is very soft and ch...</td>\n",
       "      <td>Wonderful, tasty taffy This taffy is so good. ...</td>\n",
       "      <td>1</td>\n",
       "    </tr>\n",
       "    <tr>\n",
       "      <th>8</th>\n",
       "      <td>5</td>\n",
       "      <td>Yay Barley</td>\n",
       "      <td>Right now I'm mostly just sprouting this so my...</td>\n",
       "      <td>Yay Barley Right now I'm mostly just sprouting...</td>\n",
       "      <td>1</td>\n",
       "    </tr>\n",
       "    <tr>\n",
       "      <th>9</th>\n",
       "      <td>5</td>\n",
       "      <td>Healthy Dog Food</td>\n",
       "      <td>This is a very healthy dog food. Good for thei...</td>\n",
       "      <td>Healthy Dog Food This is a very healthy dog fo...</td>\n",
       "      <td>1</td>\n",
       "    </tr>\n",
       "    <tr>\n",
       "      <th>10</th>\n",
       "      <td>5</td>\n",
       "      <td>The Best Hot Sauce in the World</td>\n",
       "      <td>I don't know if it's the cactus or the tequila...</td>\n",
       "      <td>The Best Hot Sauce in the World I don't know i...</td>\n",
       "      <td>1</td>\n",
       "    </tr>\n",
       "    <tr>\n",
       "      <th>11</th>\n",
       "      <td>5</td>\n",
       "      <td>My cats LOVE this \"diet\" food better than thei...</td>\n",
       "      <td>One of my boys needed to lose some weight and ...</td>\n",
       "      <td>My cats LOVE this \"diet\" food better than thei...</td>\n",
       "      <td>1</td>\n",
       "    </tr>\n",
       "    <tr>\n",
       "      <th>12</th>\n",
       "      <td>1</td>\n",
       "      <td>My Cats Are Not Fans of the New Food</td>\n",
       "      <td>My cats have been happily eating Felidae Plati...</td>\n",
       "      <td>My Cats Are Not Fans of the New Food My cats h...</td>\n",
       "      <td>0</td>\n",
       "    </tr>\n",
       "    <tr>\n",
       "      <th>13</th>\n",
       "      <td>4</td>\n",
       "      <td>fresh and greasy!</td>\n",
       "      <td>good flavor! these came securely packed... the...</td>\n",
       "      <td>fresh and greasy! good flavor! these came secu...</td>\n",
       "      <td>1</td>\n",
       "    </tr>\n",
       "    <tr>\n",
       "      <th>14</th>\n",
       "      <td>5</td>\n",
       "      <td>Strawberry Twizzlers - Yummy</td>\n",
       "      <td>The Strawberry Twizzlers are my guilty pleasur...</td>\n",
       "      <td>Strawberry Twizzlers - Yummy The Strawberry Tw...</td>\n",
       "      <td>1</td>\n",
       "    </tr>\n",
       "    <tr>\n",
       "      <th>15</th>\n",
       "      <td>5</td>\n",
       "      <td>Lots of twizzlers, just what you expect.</td>\n",
       "      <td>My daughter loves twizzlers and this shipment ...</td>\n",
       "      <td>Lots of twizzlers, just what you expect. My da...</td>\n",
       "      <td>1</td>\n",
       "    </tr>\n",
       "    <tr>\n",
       "      <th>16</th>\n",
       "      <td>2</td>\n",
       "      <td>poor taste</td>\n",
       "      <td>I love eating them and they are good for watch...</td>\n",
       "      <td>poor taste I love eating them and they are goo...</td>\n",
       "      <td>0</td>\n",
       "    </tr>\n",
       "    <tr>\n",
       "      <th>17</th>\n",
       "      <td>5</td>\n",
       "      <td>Love it!</td>\n",
       "      <td>I am very satisfied with my Twizzler purchase....</td>\n",
       "      <td>Love it! I am very satisfied with my Twizzler ...</td>\n",
       "      <td>1</td>\n",
       "    </tr>\n",
       "    <tr>\n",
       "      <th>18</th>\n",
       "      <td>5</td>\n",
       "      <td>GREAT SWEET CANDY!</td>\n",
       "      <td>Twizzlers, Strawberry my childhood favorite ca...</td>\n",
       "      <td>GREAT SWEET CANDY! Twizzlers, Strawberry my ch...</td>\n",
       "      <td>1</td>\n",
       "    </tr>\n",
       "    <tr>\n",
       "      <th>19</th>\n",
       "      <td>5</td>\n",
       "      <td>Home delivered twizlers</td>\n",
       "      <td>Candy was delivered very fast and was purchase...</td>\n",
       "      <td>Home delivered twizlers Candy was delivered ve...</td>\n",
       "      <td>1</td>\n",
       "    </tr>\n",
       "    <tr>\n",
       "      <th>20</th>\n",
       "      <td>5</td>\n",
       "      <td>Always fresh</td>\n",
       "      <td>My husband is a Twizzlers addict.  We've bough...</td>\n",
       "      <td>Always fresh My husband is a Twizzlers addict....</td>\n",
       "      <td>1</td>\n",
       "    </tr>\n",
       "    <tr>\n",
       "      <th>21</th>\n",
       "      <td>5</td>\n",
       "      <td>TWIZZLERS</td>\n",
       "      <td>I bought these for my husband who is currently...</td>\n",
       "      <td>TWIZZLERS I bought these for my husband who is...</td>\n",
       "      <td>1</td>\n",
       "    </tr>\n",
       "    <tr>\n",
       "      <th>22</th>\n",
       "      <td>5</td>\n",
       "      <td>Delicious product!</td>\n",
       "      <td>I can remember buying this candy as a kid and ...</td>\n",
       "      <td>Delicious product! I can remember buying this ...</td>\n",
       "      <td>1</td>\n",
       "    </tr>\n",
       "    <tr>\n",
       "      <th>23</th>\n",
       "      <td>5</td>\n",
       "      <td>Twizzlers</td>\n",
       "      <td>I love this candy.  After weight watchers I ha...</td>\n",
       "      <td>Twizzlers I love this candy.  After weight wat...</td>\n",
       "      <td>1</td>\n",
       "    </tr>\n",
       "    <tr>\n",
       "      <th>24</th>\n",
       "      <td>5</td>\n",
       "      <td>Please sell these in Mexico!!</td>\n",
       "      <td>I have lived out of the US for over 7 yrs now,...</td>\n",
       "      <td>Please sell these in Mexico!! I have lived out...</td>\n",
       "      <td>1</td>\n",
       "    </tr>\n",
       "    <tr>\n",
       "      <th>25</th>\n",
       "      <td>5</td>\n",
       "      <td>Twizzlers - Strawberry</td>\n",
       "      <td>Product received is as advertised.&lt;br /&gt;&lt;br /&gt;...</td>\n",
       "      <td>Twizzlers - Strawberry Product received is as ...</td>\n",
       "      <td>1</td>\n",
       "    </tr>\n",
       "    <tr>\n",
       "      <th>26</th>\n",
       "      <td>1</td>\n",
       "      <td>Nasty No flavor</td>\n",
       "      <td>The candy is just red , No flavor . Just  plan...</td>\n",
       "      <td>Nasty No flavor The candy is just red , No fla...</td>\n",
       "      <td>0</td>\n",
       "    </tr>\n",
       "    <tr>\n",
       "      <th>27</th>\n",
       "      <td>4</td>\n",
       "      <td>Great Bargain for the Price</td>\n",
       "      <td>I was so glad Amazon carried these batteries. ...</td>\n",
       "      <td>Great Bargain for the Price I was so glad Amaz...</td>\n",
       "      <td>1</td>\n",
       "    </tr>\n",
       "    <tr>\n",
       "      <th>28</th>\n",
       "      <td>5</td>\n",
       "      <td>YUMMY!</td>\n",
       "      <td>I got this for my Mum who is not diabetic but ...</td>\n",
       "      <td>YUMMY! I got this for my Mum who is not diabet...</td>\n",
       "      <td>1</td>\n",
       "    </tr>\n",
       "    <tr>\n",
       "      <th>29</th>\n",
       "      <td>5</td>\n",
       "      <td>The Best Hot Sauce in the World</td>\n",
       "      <td>I don't know if it's the cactus or the tequila...</td>\n",
       "      <td>The Best Hot Sauce in the World I don't know i...</td>\n",
       "      <td>1</td>\n",
       "    </tr>\n",
       "    <tr>\n",
       "      <th>...</th>\n",
       "      <td>...</td>\n",
       "      <td>...</td>\n",
       "      <td>...</td>\n",
       "      <td>...</td>\n",
       "      <td>...</td>\n",
       "    </tr>\n",
       "    <tr>\n",
       "      <th>568424</th>\n",
       "      <td>5</td>\n",
       "      <td>Unusual, even for a violet candy</td>\n",
       "      <td>I've tried several violet flavored candies in ...</td>\n",
       "      <td>Unusual, even for a violet candy I've tried se...</td>\n",
       "      <td>1</td>\n",
       "    </tr>\n",
       "    <tr>\n",
       "      <th>568425</th>\n",
       "      <td>5</td>\n",
       "      <td>Very good</td>\n",
       "      <td>This candy has a very good flavor. It is quite...</td>\n",
       "      <td>Very good This candy has a very good flavor. I...</td>\n",
       "      <td>1</td>\n",
       "    </tr>\n",
       "    <tr>\n",
       "      <th>568426</th>\n",
       "      <td>1</td>\n",
       "      <td>rip off</td>\n",
       "      <td>The candy is tasty, but they totally scam you ...</td>\n",
       "      <td>rip off The candy is tasty, but they totally s...</td>\n",
       "      <td>0</td>\n",
       "    </tr>\n",
       "    <tr>\n",
       "      <th>568427</th>\n",
       "      <td>5</td>\n",
       "      <td>The search has ended!</td>\n",
       "      <td>I had been looking for the violet candy with t...</td>\n",
       "      <td>The search has ended! I had been looking for t...</td>\n",
       "      <td>1</td>\n",
       "    </tr>\n",
       "    <tr>\n",
       "      <th>568428</th>\n",
       "      <td>5</td>\n",
       "      <td>very tasty</td>\n",
       "      <td>these are very pricey so i only enjoy them now...</td>\n",
       "      <td>very tasty these are very pricey so i only enj...</td>\n",
       "      <td>1</td>\n",
       "    </tr>\n",
       "    <tr>\n",
       "      <th>568429</th>\n",
       "      <td>5</td>\n",
       "      <td>Violet French Hard Candy</td>\n",
       "      <td>These candies have a mild flavor, when compare...</td>\n",
       "      <td>Violet French Hard Candy These candies have a ...</td>\n",
       "      <td>1</td>\n",
       "    </tr>\n",
       "    <tr>\n",
       "      <th>568430</th>\n",
       "      <td>5</td>\n",
       "      <td>delicious</td>\n",
       "      <td>This product is a bit pricey for the amt. rece...</td>\n",
       "      <td>delicious This product is a bit pricey for the...</td>\n",
       "      <td>1</td>\n",
       "    </tr>\n",
       "    <tr>\n",
       "      <th>568431</th>\n",
       "      <td>1</td>\n",
       "      <td>Mostly water</td>\n",
       "      <td>Definitely not worth buying flavored water wit...</td>\n",
       "      <td>Mostly water Definitely not worth buying flavo...</td>\n",
       "      <td>0</td>\n",
       "    </tr>\n",
       "    <tr>\n",
       "      <th>568432</th>\n",
       "      <td>1</td>\n",
       "      <td>No Good</td>\n",
       "      <td>I thought this soup would be more like a chill...</td>\n",
       "      <td>No Good I thought this soup would be more like...</td>\n",
       "      <td>0</td>\n",
       "    </tr>\n",
       "    <tr>\n",
       "      <th>568433</th>\n",
       "      <td>1</td>\n",
       "      <td>Tastes horrible!</td>\n",
       "      <td>I just bought this soup today at my local groc...</td>\n",
       "      <td>Tastes horrible! I just bought this soup today...</td>\n",
       "      <td>0</td>\n",
       "    </tr>\n",
       "    <tr>\n",
       "      <th>568434</th>\n",
       "      <td>2</td>\n",
       "      <td>Not so good</td>\n",
       "      <td>This soup is mostly broth. Although it has a k...</td>\n",
       "      <td>Not so good This soup is mostly broth. Althoug...</td>\n",
       "      <td>0</td>\n",
       "    </tr>\n",
       "    <tr>\n",
       "      <th>568435</th>\n",
       "      <td>2</td>\n",
       "      <td>Where's the tortellini?</td>\n",
       "      <td>It is mostly broth, with the advertised 3/4 cu...</td>\n",
       "      <td>Where's the tortellini? It is mostly broth, wi...</td>\n",
       "      <td>0</td>\n",
       "    </tr>\n",
       "    <tr>\n",
       "      <th>568436</th>\n",
       "      <td>5</td>\n",
       "      <td>Baker's Ammonia Small quantity</td>\n",
       "      <td>In the past, I would have to buy a large quant...</td>\n",
       "      <td>Baker's Ammonia Small quantity In the past, I ...</td>\n",
       "      <td>1</td>\n",
       "    </tr>\n",
       "    <tr>\n",
       "      <th>568437</th>\n",
       "      <td>5</td>\n",
       "      <td>Good buy.</td>\n",
       "      <td>Ammonium bicarbonate in a nice little package....</td>\n",
       "      <td>Good buy. Ammonium bicarbonate in a nice littl...</td>\n",
       "      <td>1</td>\n",
       "    </tr>\n",
       "    <tr>\n",
       "      <th>568438</th>\n",
       "      <td>5</td>\n",
       "      <td>Baking Ammonia that Works</td>\n",
       "      <td>If you haven't ever used Ammonium Bicarbonate ...</td>\n",
       "      <td>Baking Ammonia that Works If you haven't ever ...</td>\n",
       "      <td>1</td>\n",
       "    </tr>\n",
       "    <tr>\n",
       "      <th>568439</th>\n",
       "      <td>4</td>\n",
       "      <td>a-ok</td>\n",
       "      <td>We need this for a recipe my wife is intereste...</td>\n",
       "      <td>a-ok We need this for a recipe my wife is inte...</td>\n",
       "      <td>1</td>\n",
       "    </tr>\n",
       "    <tr>\n",
       "      <th>568440</th>\n",
       "      <td>5</td>\n",
       "      <td>Delicious, all natural and allergy free treats!</td>\n",
       "      <td>Indie Candy's gummies are absolutely delicious...</td>\n",
       "      <td>Delicious, all natural and allergy free treats...</td>\n",
       "      <td>1</td>\n",
       "    </tr>\n",
       "    <tr>\n",
       "      <th>568441</th>\n",
       "      <td>5</td>\n",
       "      <td>Great For Fast Gulasch!</td>\n",
       "      <td>Quick and easy! Had similar Gulasch in Guest H...</td>\n",
       "      <td>Great For Fast Gulasch! Quick and easy! Had si...</td>\n",
       "      <td>1</td>\n",
       "    </tr>\n",
       "    <tr>\n",
       "      <th>568442</th>\n",
       "      <td>5</td>\n",
       "      <td>Great Cafe Latte</td>\n",
       "      <td>This product is great.  Gives you so much ener...</td>\n",
       "      <td>Great Cafe Latte This product is great.  Gives...</td>\n",
       "      <td>1</td>\n",
       "    </tr>\n",
       "    <tr>\n",
       "      <th>568443</th>\n",
       "      <td>5</td>\n",
       "      <td>Excellent Tea</td>\n",
       "      <td>I love this tea.  I first discovered the pleas...</td>\n",
       "      <td>Excellent Tea I love this tea.  I first discov...</td>\n",
       "      <td>1</td>\n",
       "    </tr>\n",
       "    <tr>\n",
       "      <th>568444</th>\n",
       "      <td>5</td>\n",
       "      <td>Best Value for Chinese 5 Spice</td>\n",
       "      <td>As a foodie, I use a lot of Chinese 5 Spice po...</td>\n",
       "      <td>Best Value for Chinese 5 Spice As a foodie, I ...</td>\n",
       "      <td>1</td>\n",
       "    </tr>\n",
       "    <tr>\n",
       "      <th>568445</th>\n",
       "      <td>5</td>\n",
       "      <td>Five Spice Powder</td>\n",
       "      <td>You can make this mix yourself, but the Star A...</td>\n",
       "      <td>Five Spice Powder You can make this mix yourse...</td>\n",
       "      <td>1</td>\n",
       "    </tr>\n",
       "    <tr>\n",
       "      <th>568446</th>\n",
       "      <td>2</td>\n",
       "      <td>Mixed wrong</td>\n",
       "      <td>I had ordered some of these a few months back ...</td>\n",
       "      <td>Mixed wrong I had ordered some of these a few ...</td>\n",
       "      <td>0</td>\n",
       "    </tr>\n",
       "    <tr>\n",
       "      <th>568447</th>\n",
       "      <td>5</td>\n",
       "      <td>If its all natural, this is like panacea of Sp...</td>\n",
       "      <td>Hoping there is no MSG in this, this tastes ex...</td>\n",
       "      <td>If its all natural, this is like panacea of Sp...</td>\n",
       "      <td>1</td>\n",
       "    </tr>\n",
       "    <tr>\n",
       "      <th>568448</th>\n",
       "      <td>5</td>\n",
       "      <td>Very large ground spice jars.</td>\n",
       "      <td>My only complaint is that there's so much of i...</td>\n",
       "      <td>Very large ground spice jars. My only complain...</td>\n",
       "      <td>1</td>\n",
       "    </tr>\n",
       "    <tr>\n",
       "      <th>568449</th>\n",
       "      <td>5</td>\n",
       "      <td>Will not do without</td>\n",
       "      <td>Great for sesame chicken..this is a good if no...</td>\n",
       "      <td>Will not do without Great for sesame chicken.....</td>\n",
       "      <td>1</td>\n",
       "    </tr>\n",
       "    <tr>\n",
       "      <th>568450</th>\n",
       "      <td>2</td>\n",
       "      <td>disappointed</td>\n",
       "      <td>I'm disappointed with the flavor. The chocolat...</td>\n",
       "      <td>disappointed I'm disappointed with the flavor....</td>\n",
       "      <td>0</td>\n",
       "    </tr>\n",
       "    <tr>\n",
       "      <th>568451</th>\n",
       "      <td>5</td>\n",
       "      <td>Perfect for our maltipoo</td>\n",
       "      <td>These stars are small, so you can give 10-15 o...</td>\n",
       "      <td>Perfect for our maltipoo These stars are small...</td>\n",
       "      <td>1</td>\n",
       "    </tr>\n",
       "    <tr>\n",
       "      <th>568452</th>\n",
       "      <td>5</td>\n",
       "      <td>Favorite Training and reward treat</td>\n",
       "      <td>These are the BEST treats for training and rew...</td>\n",
       "      <td>Favorite Training and reward treat These are t...</td>\n",
       "      <td>1</td>\n",
       "    </tr>\n",
       "    <tr>\n",
       "      <th>568453</th>\n",
       "      <td>5</td>\n",
       "      <td>Great Honey</td>\n",
       "      <td>I am very satisfied ,product is as advertised,...</td>\n",
       "      <td>Great Honey I am very satisfied ,product is as...</td>\n",
       "      <td>1</td>\n",
       "    </tr>\n",
       "  </tbody>\n",
       "</table>\n",
       "<p>568454 rows × 5 columns</p>\n",
       "</div>"
      ],
      "text/plain": [
       "        Score                                            Summary  \\\n",
       "0           5                              Good Quality Dog Food   \n",
       "1           1                                  Not as Advertised   \n",
       "2           4                              \"Delight\" says it all   \n",
       "3           2                                     Cough Medicine   \n",
       "4           5                                        Great taffy   \n",
       "5           4                                         Nice Taffy   \n",
       "6           5      Great!  Just as good as the expensive brands!   \n",
       "7           5                             Wonderful, tasty taffy   \n",
       "8           5                                         Yay Barley   \n",
       "9           5                                   Healthy Dog Food   \n",
       "10          5                    The Best Hot Sauce in the World   \n",
       "11          5  My cats LOVE this \"diet\" food better than thei...   \n",
       "12          1               My Cats Are Not Fans of the New Food   \n",
       "13          4                                  fresh and greasy!   \n",
       "14          5                       Strawberry Twizzlers - Yummy   \n",
       "15          5           Lots of twizzlers, just what you expect.   \n",
       "16          2                                         poor taste   \n",
       "17          5                                           Love it!   \n",
       "18          5                                 GREAT SWEET CANDY!   \n",
       "19          5                            Home delivered twizlers   \n",
       "20          5                                       Always fresh   \n",
       "21          5                                          TWIZZLERS   \n",
       "22          5                                 Delicious product!   \n",
       "23          5                                          Twizzlers   \n",
       "24          5                      Please sell these in Mexico!!   \n",
       "25          5                             Twizzlers - Strawberry   \n",
       "26          1                                    Nasty No flavor   \n",
       "27          4                        Great Bargain for the Price   \n",
       "28          5                                             YUMMY!   \n",
       "29          5                    The Best Hot Sauce in the World   \n",
       "...       ...                                                ...   \n",
       "568424      5                   Unusual, even for a violet candy   \n",
       "568425      5                                          Very good   \n",
       "568426      1                                            rip off   \n",
       "568427      5                              The search has ended!   \n",
       "568428      5                                         very tasty   \n",
       "568429      5                           Violet French Hard Candy   \n",
       "568430      5                                          delicious   \n",
       "568431      1                                       Mostly water   \n",
       "568432      1                                            No Good   \n",
       "568433      1                                   Tastes horrible!   \n",
       "568434      2                                        Not so good   \n",
       "568435      2                            Where's the tortellini?   \n",
       "568436      5                     Baker's Ammonia Small quantity   \n",
       "568437      5                                          Good buy.   \n",
       "568438      5                          Baking Ammonia that Works   \n",
       "568439      4                                               a-ok   \n",
       "568440      5    Delicious, all natural and allergy free treats!   \n",
       "568441      5                            Great For Fast Gulasch!   \n",
       "568442      5                                   Great Cafe Latte   \n",
       "568443      5                                      Excellent Tea   \n",
       "568444      5                     Best Value for Chinese 5 Spice   \n",
       "568445      5                                  Five Spice Powder   \n",
       "568446      2                                        Mixed wrong   \n",
       "568447      5  If its all natural, this is like panacea of Sp...   \n",
       "568448      5                      Very large ground spice jars.   \n",
       "568449      5                                Will not do without   \n",
       "568450      2                                       disappointed   \n",
       "568451      5                           Perfect for our maltipoo   \n",
       "568452      5                 Favorite Training and reward treat   \n",
       "568453      5                                        Great Honey   \n",
       "\n",
       "                                                     Text  \\\n",
       "0       I have bought several of the Vitality canned d...   \n",
       "1       Product arrived labeled as Jumbo Salted Peanut...   \n",
       "2       This is a confection that has been around a fe...   \n",
       "3       If you are looking for the secret ingredient i...   \n",
       "4       Great taffy at a great price.  There was a wid...   \n",
       "5       I got a wild hair for taffy and ordered this f...   \n",
       "6       This saltwater taffy had great flavors and was...   \n",
       "7       This taffy is so good.  It is very soft and ch...   \n",
       "8       Right now I'm mostly just sprouting this so my...   \n",
       "9       This is a very healthy dog food. Good for thei...   \n",
       "10      I don't know if it's the cactus or the tequila...   \n",
       "11      One of my boys needed to lose some weight and ...   \n",
       "12      My cats have been happily eating Felidae Plati...   \n",
       "13      good flavor! these came securely packed... the...   \n",
       "14      The Strawberry Twizzlers are my guilty pleasur...   \n",
       "15      My daughter loves twizzlers and this shipment ...   \n",
       "16      I love eating them and they are good for watch...   \n",
       "17      I am very satisfied with my Twizzler purchase....   \n",
       "18      Twizzlers, Strawberry my childhood favorite ca...   \n",
       "19      Candy was delivered very fast and was purchase...   \n",
       "20      My husband is a Twizzlers addict.  We've bough...   \n",
       "21      I bought these for my husband who is currently...   \n",
       "22      I can remember buying this candy as a kid and ...   \n",
       "23      I love this candy.  After weight watchers I ha...   \n",
       "24      I have lived out of the US for over 7 yrs now,...   \n",
       "25      Product received is as advertised.<br /><br />...   \n",
       "26      The candy is just red , No flavor . Just  plan...   \n",
       "27      I was so glad Amazon carried these batteries. ...   \n",
       "28      I got this for my Mum who is not diabetic but ...   \n",
       "29      I don't know if it's the cactus or the tequila...   \n",
       "...                                                   ...   \n",
       "568424  I've tried several violet flavored candies in ...   \n",
       "568425  This candy has a very good flavor. It is quite...   \n",
       "568426  The candy is tasty, but they totally scam you ...   \n",
       "568427  I had been looking for the violet candy with t...   \n",
       "568428  these are very pricey so i only enjoy them now...   \n",
       "568429  These candies have a mild flavor, when compare...   \n",
       "568430  This product is a bit pricey for the amt. rece...   \n",
       "568431  Definitely not worth buying flavored water wit...   \n",
       "568432  I thought this soup would be more like a chill...   \n",
       "568433  I just bought this soup today at my local groc...   \n",
       "568434  This soup is mostly broth. Although it has a k...   \n",
       "568435  It is mostly broth, with the advertised 3/4 cu...   \n",
       "568436  In the past, I would have to buy a large quant...   \n",
       "568437  Ammonium bicarbonate in a nice little package....   \n",
       "568438  If you haven't ever used Ammonium Bicarbonate ...   \n",
       "568439  We need this for a recipe my wife is intereste...   \n",
       "568440  Indie Candy's gummies are absolutely delicious...   \n",
       "568441  Quick and easy! Had similar Gulasch in Guest H...   \n",
       "568442  This product is great.  Gives you so much ener...   \n",
       "568443  I love this tea.  I first discovered the pleas...   \n",
       "568444  As a foodie, I use a lot of Chinese 5 Spice po...   \n",
       "568445  You can make this mix yourself, but the Star A...   \n",
       "568446  I had ordered some of these a few months back ...   \n",
       "568447  Hoping there is no MSG in this, this tastes ex...   \n",
       "568448  My only complaint is that there's so much of i...   \n",
       "568449  Great for sesame chicken..this is a good if no...   \n",
       "568450  I'm disappointed with the flavor. The chocolat...   \n",
       "568451  These stars are small, so you can give 10-15 o...   \n",
       "568452  These are the BEST treats for training and rew...   \n",
       "568453  I am very satisfied ,product is as advertised,...   \n",
       "\n",
       "                                                    Words  Sentiment  \n",
       "0       Good Quality Dog Food I have bought several of...          1  \n",
       "1       Not as Advertised Product arrived labeled as J...          0  \n",
       "2       \"Delight\" says it all This is a confection tha...          1  \n",
       "3       Cough Medicine If you are looking for the secr...          0  \n",
       "4       Great taffy Great taffy at a great price.  The...          1  \n",
       "5       Nice Taffy I got a wild hair for taffy and ord...          1  \n",
       "6       Great!  Just as good as the expensive brands! ...          1  \n",
       "7       Wonderful, tasty taffy This taffy is so good. ...          1  \n",
       "8       Yay Barley Right now I'm mostly just sprouting...          1  \n",
       "9       Healthy Dog Food This is a very healthy dog fo...          1  \n",
       "10      The Best Hot Sauce in the World I don't know i...          1  \n",
       "11      My cats LOVE this \"diet\" food better than thei...          1  \n",
       "12      My Cats Are Not Fans of the New Food My cats h...          0  \n",
       "13      fresh and greasy! good flavor! these came secu...          1  \n",
       "14      Strawberry Twizzlers - Yummy The Strawberry Tw...          1  \n",
       "15      Lots of twizzlers, just what you expect. My da...          1  \n",
       "16      poor taste I love eating them and they are goo...          0  \n",
       "17      Love it! I am very satisfied with my Twizzler ...          1  \n",
       "18      GREAT SWEET CANDY! Twizzlers, Strawberry my ch...          1  \n",
       "19      Home delivered twizlers Candy was delivered ve...          1  \n",
       "20      Always fresh My husband is a Twizzlers addict....          1  \n",
       "21      TWIZZLERS I bought these for my husband who is...          1  \n",
       "22      Delicious product! I can remember buying this ...          1  \n",
       "23      Twizzlers I love this candy.  After weight wat...          1  \n",
       "24      Please sell these in Mexico!! I have lived out...          1  \n",
       "25      Twizzlers - Strawberry Product received is as ...          1  \n",
       "26      Nasty No flavor The candy is just red , No fla...          0  \n",
       "27      Great Bargain for the Price I was so glad Amaz...          1  \n",
       "28      YUMMY! I got this for my Mum who is not diabet...          1  \n",
       "29      The Best Hot Sauce in the World I don't know i...          1  \n",
       "...                                                   ...        ...  \n",
       "568424  Unusual, even for a violet candy I've tried se...          1  \n",
       "568425  Very good This candy has a very good flavor. I...          1  \n",
       "568426  rip off The candy is tasty, but they totally s...          0  \n",
       "568427  The search has ended! I had been looking for t...          1  \n",
       "568428  very tasty these are very pricey so i only enj...          1  \n",
       "568429  Violet French Hard Candy These candies have a ...          1  \n",
       "568430  delicious This product is a bit pricey for the...          1  \n",
       "568431  Mostly water Definitely not worth buying flavo...          0  \n",
       "568432  No Good I thought this soup would be more like...          0  \n",
       "568433  Tastes horrible! I just bought this soup today...          0  \n",
       "568434  Not so good This soup is mostly broth. Althoug...          0  \n",
       "568435  Where's the tortellini? It is mostly broth, wi...          0  \n",
       "568436  Baker's Ammonia Small quantity In the past, I ...          1  \n",
       "568437  Good buy. Ammonium bicarbonate in a nice littl...          1  \n",
       "568438  Baking Ammonia that Works If you haven't ever ...          1  \n",
       "568439  a-ok We need this for a recipe my wife is inte...          1  \n",
       "568440  Delicious, all natural and allergy free treats...          1  \n",
       "568441  Great For Fast Gulasch! Quick and easy! Had si...          1  \n",
       "568442  Great Cafe Latte This product is great.  Gives...          1  \n",
       "568443  Excellent Tea I love this tea.  I first discov...          1  \n",
       "568444  Best Value for Chinese 5 Spice As a foodie, I ...          1  \n",
       "568445  Five Spice Powder You can make this mix yourse...          1  \n",
       "568446  Mixed wrong I had ordered some of these a few ...          0  \n",
       "568447  If its all natural, this is like panacea of Sp...          1  \n",
       "568448  Very large ground spice jars. My only complain...          1  \n",
       "568449  Will not do without Great for sesame chicken.....          1  \n",
       "568450  disappointed I'm disappointed with the flavor....          0  \n",
       "568451  Perfect for our maltipoo These stars are small...          1  \n",
       "568452  Favorite Training and reward treat These are t...          1  \n",
       "568453  Great Honey I am very satisfied ,product is as...          1  \n",
       "\n",
       "[568454 rows x 5 columns]"
      ]
     },
     "execution_count": 67,
     "metadata": {},
     "output_type": "execute_result"
    }
   ],
   "source": [
    "relevant"
   ]
  },
  {
   "cell_type": "code",
   "execution_count": 9,
   "metadata": {
    "collapsed": true
   },
   "outputs": [],
   "source": [
    "new_y = relevant.Sentiment.values\n",
    "perm = np.random.permutation(len(y))\n",
    "train = perm[0:5000]\n",
    "test = perm[5000:]\n",
    "x_train = x[train]\n",
    "x_test = x[test]\n",
    "y_train = new_y[train]\n",
    "y_test= new_y[test]"
   ]
  },
  {
   "cell_type": "code",
   "execution_count": 87,
   "metadata": {
    "collapsed": false
   },
   "outputs": [
    {
     "data": {
      "text/plain": [
       "RandomForestClassifier(bootstrap=True, class_weight='balanced',\n",
       "            criterion='gini', max_depth=None, max_features='auto',\n",
       "            max_leaf_nodes=None, min_samples_leaf=1, min_samples_split=2,\n",
       "            min_weight_fraction_leaf=0.0, n_estimators=75, n_jobs=1,\n",
       "            oob_score=True, random_state=None, verbose=0, warm_start=False)"
      ]
     },
     "execution_count": 87,
     "metadata": {},
     "output_type": "execute_result"
    }
   ],
   "source": [
    "RF = ensemble.RandomForestClassifier(n_estimators = N_ESTIMATORS, max_features = MAX_FEATURES, max_depth = MAX_DEPTH,\n",
    "                                     oob_score =True, class_weight='balanced')\n",
    "RF.fit(x_train,y_train)"
   ]
  },
  {
   "cell_type": "code",
   "execution_count": 89,
   "metadata": {
    "collapsed": false
   },
   "outputs": [
    {
     "name": "stdout",
     "output_type": "stream",
     "text": [
      "0.850229954009\n",
      "0.408658008658\n",
      "0.982839313573\n"
     ]
    }
   ],
   "source": [
    "print RF.score(x_test,y_test)\n",
    "print RF.score(x_test[y_test==0],y_test[y_test==0])\n",
    "print RF.score(x_test[y_test==1],y_test[y_test==1])"
   ]
  },
  {
   "cell_type": "code",
   "execution_count": 84,
   "metadata": {
    "collapsed": false
   },
   "outputs": [],
   "source": [
    "m_features = np.arange(1,5)\n",
    "depths = np.arange(1,5)"
   ]
  },
  {
   "cell_type": "code",
   "execution_count": 86,
   "metadata": {
    "collapsed": false
   },
   "outputs": [
    {
     "name": "stdout",
     "output_type": "stream",
     "text": [
      "Max_Depth:  10  Max_features:  10  Score:  0.797040591882\n",
      "Max_Depth:  100  Max_features:  10  Score:  0.817436512697\n",
      "Max_Depth:  1000  Max_features:  10  Score:  0.799840031994\n",
      "Max_Depth:  10000  Max_features:  10  Score:  0.80123975205\n",
      "Max_Depth:  10  Max_features:  100  Score:  0.832633473305\n",
      "Max_Depth:  100  Max_features:  100  Score:  0.853829234153\n",
      "Max_Depth:  1000  Max_features:  100  Score:  0.839432113577\n",
      "Max_Depth:  10000  Max_features:  100  Score:  0.843231353729\n",
      "Max_Depth:  10  Max_features:  1000  Score:  0.796440711858\n",
      "Max_Depth:  100  Max_features:  1000  Score:  0.854029194161\n",
      "Max_Depth:  1000  Max_features:  1000  Score:  0.852629474105\n",
      "Max_Depth:  10000  Max_features:  1000  Score:  0.852829434113\n",
      "Max_Depth:  10  Max_features:  10000  Score:  0.732453509298\n",
      "Max_Depth:  100  Max_features:  10000  Score:  0.833233353329\n",
      "Max_Depth:  1000  Max_features:  10000  Score:  0.835432913417\n",
      "Max_Depth:  10000  Max_features:  10000  Score:  0.835632873425\n"
     ]
    }
   ],
   "source": [
    "for i in m_features:\n",
    "    for j in depths:\n",
    "        RF = ensemble.RandomForestClassifier(n_estimators = N_ESTIMATORS, max_features = 10**i, max_depth = 10**j,\n",
    "                                             class_weight='balanced')\n",
    "        RF.fit(x_train,y_train)\n",
    "        score = RF.score(x_test,y_test)\n",
    "        print \"Max_Depth: \",10**j,\" Max_features: \",10**i, \" Score: \",score\n",
    "\n",
    "        "
   ]
  },
  {
   "cell_type": "code",
   "execution_count": 90,
   "metadata": {
    "collapsed": false
   },
   "outputs": [
    {
     "name": "stdout",
     "output_type": "stream",
     "text": [
      "Max_Depth:  10  Max_features:  10  Score:  0.48658008658\n",
      "Max_Depth:  100  Max_features:  10  Score:  0.246753246753\n",
      "Max_Depth:  1000  Max_features:  10  Score:  0.161038961039\n",
      "Max_Depth:  10000  Max_features:  10  Score:  0.149783549784\n",
      "Max_Depth:  10  Max_features:  100  Score:  0.684848484848\n",
      "Max_Depth:  100  Max_features:  100  Score:  0.458008658009\n",
      "Max_Depth:  1000  Max_features:  100  Score:  0.351515151515\n",
      "Max_Depth:  10000  Max_features:  100  Score:  0.351515151515\n",
      "Max_Depth:  10  Max_features:  1000  Score:  0.788744588745\n",
      "Max_Depth:  100  Max_features:  1000  Score:  0.644155844156\n",
      "Max_Depth:  1000  Max_features:  1000  Score:  0.650216450216\n",
      "Max_Depth:  10000  Max_features:  1000  Score:  0.64329004329\n"
     ]
    },
    {
     "ename": "KeyboardInterrupt",
     "evalue": "",
     "output_type": "error",
     "traceback": [
      "\u001b[0;31m---------------------------------------------------------------------------\u001b[0m",
      "\u001b[0;31mKeyboardInterrupt\u001b[0m                         Traceback (most recent call last)",
      "\u001b[0;32m<ipython-input-90-c0062e8564e3>\u001b[0m in \u001b[0;36m<module>\u001b[0;34m()\u001b[0m\n\u001b[1;32m      3\u001b[0m         RF = ensemble.RandomForestClassifier(n_estimators = N_ESTIMATORS, max_features = 10**i, max_depth = 10**j,\n\u001b[1;32m      4\u001b[0m                                              class_weight='balanced')\n\u001b[0;32m----> 5\u001b[0;31m         \u001b[0mRF\u001b[0m\u001b[0;34m.\u001b[0m\u001b[0mfit\u001b[0m\u001b[0;34m(\u001b[0m\u001b[0mx_train\u001b[0m\u001b[0;34m,\u001b[0m\u001b[0my_train\u001b[0m\u001b[0;34m)\u001b[0m\u001b[0;34m\u001b[0m\u001b[0m\n\u001b[0m\u001b[1;32m      6\u001b[0m         \u001b[0mscore\u001b[0m \u001b[0;34m=\u001b[0m \u001b[0mRF\u001b[0m\u001b[0;34m.\u001b[0m\u001b[0mscore\u001b[0m\u001b[0;34m(\u001b[0m\u001b[0mx_test\u001b[0m\u001b[0;34m[\u001b[0m\u001b[0my_test\u001b[0m\u001b[0;34m==\u001b[0m\u001b[0;36m0\u001b[0m\u001b[0;34m]\u001b[0m\u001b[0;34m,\u001b[0m\u001b[0my_test\u001b[0m\u001b[0;34m[\u001b[0m\u001b[0my_test\u001b[0m\u001b[0;34m==\u001b[0m\u001b[0;36m0\u001b[0m\u001b[0;34m]\u001b[0m\u001b[0;34m)\u001b[0m\u001b[0;34m\u001b[0m\u001b[0m\n\u001b[1;32m      7\u001b[0m         \u001b[0;32mprint\u001b[0m \u001b[0;34m\"Max_Depth: \"\u001b[0m\u001b[0;34m,\u001b[0m\u001b[0;36m10\u001b[0m\u001b[0;34m**\u001b[0m\u001b[0mj\u001b[0m\u001b[0;34m,\u001b[0m\u001b[0;34m\" Max_features: \"\u001b[0m\u001b[0;34m,\u001b[0m\u001b[0;36m10\u001b[0m\u001b[0;34m**\u001b[0m\u001b[0mi\u001b[0m\u001b[0;34m,\u001b[0m \u001b[0;34m\" Score: \"\u001b[0m\u001b[0;34m,\u001b[0m\u001b[0mscore\u001b[0m\u001b[0;34m\u001b[0m\u001b[0m\n",
      "\u001b[0;32m//anaconda/lib/python2.7/site-packages/sklearn/ensemble/forest.pyc\u001b[0m in \u001b[0;36mfit\u001b[0;34m(self, X, y, sample_weight)\u001b[0m\n\u001b[1;32m    288\u001b[0m                     \u001b[0mt\u001b[0m\u001b[0;34m,\u001b[0m \u001b[0mself\u001b[0m\u001b[0;34m,\u001b[0m \u001b[0mX\u001b[0m\u001b[0;34m,\u001b[0m \u001b[0my\u001b[0m\u001b[0;34m,\u001b[0m \u001b[0msample_weight\u001b[0m\u001b[0;34m,\u001b[0m \u001b[0mi\u001b[0m\u001b[0;34m,\u001b[0m \u001b[0mlen\u001b[0m\u001b[0;34m(\u001b[0m\u001b[0mtrees\u001b[0m\u001b[0;34m)\u001b[0m\u001b[0;34m,\u001b[0m\u001b[0;34m\u001b[0m\u001b[0m\n\u001b[1;32m    289\u001b[0m                     verbose=self.verbose, class_weight=self.class_weight)\n\u001b[0;32m--> 290\u001b[0;31m                 for i, t in enumerate(trees))\n\u001b[0m\u001b[1;32m    291\u001b[0m \u001b[0;34m\u001b[0m\u001b[0m\n\u001b[1;32m    292\u001b[0m             \u001b[0;31m# Collect newly grown trees\u001b[0m\u001b[0;34m\u001b[0m\u001b[0;34m\u001b[0m\u001b[0m\n",
      "\u001b[0;32m//anaconda/lib/python2.7/site-packages/sklearn/externals/joblib/parallel.pyc\u001b[0m in \u001b[0;36m__call__\u001b[0;34m(self, iterable)\u001b[0m\n\u001b[1;32m    798\u001b[0m             \u001b[0;31m# was dispatched. In particular this covers the edge\u001b[0m\u001b[0;34m\u001b[0m\u001b[0;34m\u001b[0m\u001b[0m\n\u001b[1;32m    799\u001b[0m             \u001b[0;31m# case of Parallel used with an exhausted iterator.\u001b[0m\u001b[0;34m\u001b[0m\u001b[0;34m\u001b[0m\u001b[0m\n\u001b[0;32m--> 800\u001b[0;31m             \u001b[0;32mwhile\u001b[0m \u001b[0mself\u001b[0m\u001b[0;34m.\u001b[0m\u001b[0mdispatch_one_batch\u001b[0m\u001b[0;34m(\u001b[0m\u001b[0miterator\u001b[0m\u001b[0;34m)\u001b[0m\u001b[0;34m:\u001b[0m\u001b[0;34m\u001b[0m\u001b[0m\n\u001b[0m\u001b[1;32m    801\u001b[0m                 \u001b[0mself\u001b[0m\u001b[0;34m.\u001b[0m\u001b[0m_iterating\u001b[0m \u001b[0;34m=\u001b[0m \u001b[0mTrue\u001b[0m\u001b[0;34m\u001b[0m\u001b[0m\n\u001b[1;32m    802\u001b[0m             \u001b[0;32melse\u001b[0m\u001b[0;34m:\u001b[0m\u001b[0;34m\u001b[0m\u001b[0m\n",
      "\u001b[0;32m//anaconda/lib/python2.7/site-packages/sklearn/externals/joblib/parallel.pyc\u001b[0m in \u001b[0;36mdispatch_one_batch\u001b[0;34m(self, iterator)\u001b[0m\n\u001b[1;32m    656\u001b[0m                 \u001b[0;32mreturn\u001b[0m \u001b[0mFalse\u001b[0m\u001b[0;34m\u001b[0m\u001b[0m\n\u001b[1;32m    657\u001b[0m             \u001b[0;32melse\u001b[0m\u001b[0;34m:\u001b[0m\u001b[0;34m\u001b[0m\u001b[0m\n\u001b[0;32m--> 658\u001b[0;31m                 \u001b[0mself\u001b[0m\u001b[0;34m.\u001b[0m\u001b[0m_dispatch\u001b[0m\u001b[0;34m(\u001b[0m\u001b[0mtasks\u001b[0m\u001b[0;34m)\u001b[0m\u001b[0;34m\u001b[0m\u001b[0m\n\u001b[0m\u001b[1;32m    659\u001b[0m                 \u001b[0;32mreturn\u001b[0m \u001b[0mTrue\u001b[0m\u001b[0;34m\u001b[0m\u001b[0m\n\u001b[1;32m    660\u001b[0m \u001b[0;34m\u001b[0m\u001b[0m\n",
      "\u001b[0;32m//anaconda/lib/python2.7/site-packages/sklearn/externals/joblib/parallel.pyc\u001b[0m in \u001b[0;36m_dispatch\u001b[0;34m(self, batch)\u001b[0m\n\u001b[1;32m    564\u001b[0m \u001b[0;34m\u001b[0m\u001b[0m\n\u001b[1;32m    565\u001b[0m         \u001b[0;32mif\u001b[0m \u001b[0mself\u001b[0m\u001b[0;34m.\u001b[0m\u001b[0m_pool\u001b[0m \u001b[0;32mis\u001b[0m \u001b[0mNone\u001b[0m\u001b[0;34m:\u001b[0m\u001b[0;34m\u001b[0m\u001b[0m\n\u001b[0;32m--> 566\u001b[0;31m             \u001b[0mjob\u001b[0m \u001b[0;34m=\u001b[0m \u001b[0mImmediateComputeBatch\u001b[0m\u001b[0;34m(\u001b[0m\u001b[0mbatch\u001b[0m\u001b[0;34m)\u001b[0m\u001b[0;34m\u001b[0m\u001b[0m\n\u001b[0m\u001b[1;32m    567\u001b[0m             \u001b[0mself\u001b[0m\u001b[0;34m.\u001b[0m\u001b[0m_jobs\u001b[0m\u001b[0;34m.\u001b[0m\u001b[0mappend\u001b[0m\u001b[0;34m(\u001b[0m\u001b[0mjob\u001b[0m\u001b[0;34m)\u001b[0m\u001b[0;34m\u001b[0m\u001b[0m\n\u001b[1;32m    568\u001b[0m             \u001b[0mself\u001b[0m\u001b[0;34m.\u001b[0m\u001b[0mn_dispatched_batches\u001b[0m \u001b[0;34m+=\u001b[0m \u001b[0;36m1\u001b[0m\u001b[0;34m\u001b[0m\u001b[0m\n",
      "\u001b[0;32m//anaconda/lib/python2.7/site-packages/sklearn/externals/joblib/parallel.pyc\u001b[0m in \u001b[0;36m__init__\u001b[0;34m(self, batch)\u001b[0m\n\u001b[1;32m    178\u001b[0m         \u001b[0;31m# Don't delay the application, to avoid keeping the input\u001b[0m\u001b[0;34m\u001b[0m\u001b[0;34m\u001b[0m\u001b[0m\n\u001b[1;32m    179\u001b[0m         \u001b[0;31m# arguments in memory\u001b[0m\u001b[0;34m\u001b[0m\u001b[0;34m\u001b[0m\u001b[0m\n\u001b[0;32m--> 180\u001b[0;31m         \u001b[0mself\u001b[0m\u001b[0;34m.\u001b[0m\u001b[0mresults\u001b[0m \u001b[0;34m=\u001b[0m \u001b[0mbatch\u001b[0m\u001b[0;34m(\u001b[0m\u001b[0;34m)\u001b[0m\u001b[0;34m\u001b[0m\u001b[0m\n\u001b[0m\u001b[1;32m    181\u001b[0m \u001b[0;34m\u001b[0m\u001b[0m\n\u001b[1;32m    182\u001b[0m     \u001b[0;32mdef\u001b[0m \u001b[0mget\u001b[0m\u001b[0;34m(\u001b[0m\u001b[0mself\u001b[0m\u001b[0;34m)\u001b[0m\u001b[0;34m:\u001b[0m\u001b[0;34m\u001b[0m\u001b[0m\n",
      "\u001b[0;32m//anaconda/lib/python2.7/site-packages/sklearn/externals/joblib/parallel.pyc\u001b[0m in \u001b[0;36m__call__\u001b[0;34m(self)\u001b[0m\n\u001b[1;32m     70\u001b[0m \u001b[0;34m\u001b[0m\u001b[0m\n\u001b[1;32m     71\u001b[0m     \u001b[0;32mdef\u001b[0m \u001b[0m__call__\u001b[0m\u001b[0;34m(\u001b[0m\u001b[0mself\u001b[0m\u001b[0;34m)\u001b[0m\u001b[0;34m:\u001b[0m\u001b[0;34m\u001b[0m\u001b[0m\n\u001b[0;32m---> 72\u001b[0;31m         \u001b[0;32mreturn\u001b[0m \u001b[0;34m[\u001b[0m\u001b[0mfunc\u001b[0m\u001b[0;34m(\u001b[0m\u001b[0;34m*\u001b[0m\u001b[0margs\u001b[0m\u001b[0;34m,\u001b[0m \u001b[0;34m**\u001b[0m\u001b[0mkwargs\u001b[0m\u001b[0;34m)\u001b[0m \u001b[0;32mfor\u001b[0m \u001b[0mfunc\u001b[0m\u001b[0;34m,\u001b[0m \u001b[0margs\u001b[0m\u001b[0;34m,\u001b[0m \u001b[0mkwargs\u001b[0m \u001b[0;32min\u001b[0m \u001b[0mself\u001b[0m\u001b[0;34m.\u001b[0m\u001b[0mitems\u001b[0m\u001b[0;34m]\u001b[0m\u001b[0;34m\u001b[0m\u001b[0m\n\u001b[0m\u001b[1;32m     73\u001b[0m \u001b[0;34m\u001b[0m\u001b[0m\n\u001b[1;32m     74\u001b[0m     \u001b[0;32mdef\u001b[0m \u001b[0m__len__\u001b[0m\u001b[0;34m(\u001b[0m\u001b[0mself\u001b[0m\u001b[0;34m)\u001b[0m\u001b[0;34m:\u001b[0m\u001b[0;34m\u001b[0m\u001b[0m\n",
      "\u001b[0;32m//anaconda/lib/python2.7/site-packages/sklearn/ensemble/forest.pyc\u001b[0m in \u001b[0;36m_parallel_build_trees\u001b[0;34m(tree, forest, X, y, sample_weight, tree_idx, n_trees, verbose, class_weight)\u001b[0m\n\u001b[1;32m    114\u001b[0m             \u001b[0mcurr_sample_weight\u001b[0m \u001b[0;34m*=\u001b[0m \u001b[0mcompute_sample_weight\u001b[0m\u001b[0;34m(\u001b[0m\u001b[0;34m'balanced'\u001b[0m\u001b[0;34m,\u001b[0m \u001b[0my\u001b[0m\u001b[0;34m,\u001b[0m \u001b[0mindices\u001b[0m\u001b[0;34m)\u001b[0m\u001b[0;34m\u001b[0m\u001b[0m\n\u001b[1;32m    115\u001b[0m \u001b[0;34m\u001b[0m\u001b[0m\n\u001b[0;32m--> 116\u001b[0;31m         \u001b[0mtree\u001b[0m\u001b[0;34m.\u001b[0m\u001b[0mfit\u001b[0m\u001b[0;34m(\u001b[0m\u001b[0mX\u001b[0m\u001b[0;34m,\u001b[0m \u001b[0my\u001b[0m\u001b[0;34m,\u001b[0m \u001b[0msample_weight\u001b[0m\u001b[0;34m=\u001b[0m\u001b[0mcurr_sample_weight\u001b[0m\u001b[0;34m,\u001b[0m \u001b[0mcheck_input\u001b[0m\u001b[0;34m=\u001b[0m\u001b[0mFalse\u001b[0m\u001b[0;34m)\u001b[0m\u001b[0;34m\u001b[0m\u001b[0m\n\u001b[0m\u001b[1;32m    117\u001b[0m     \u001b[0;32melse\u001b[0m\u001b[0;34m:\u001b[0m\u001b[0;34m\u001b[0m\u001b[0m\n\u001b[1;32m    118\u001b[0m         \u001b[0mtree\u001b[0m\u001b[0;34m.\u001b[0m\u001b[0mfit\u001b[0m\u001b[0;34m(\u001b[0m\u001b[0mX\u001b[0m\u001b[0;34m,\u001b[0m \u001b[0my\u001b[0m\u001b[0;34m,\u001b[0m \u001b[0msample_weight\u001b[0m\u001b[0;34m=\u001b[0m\u001b[0msample_weight\u001b[0m\u001b[0;34m,\u001b[0m \u001b[0mcheck_input\u001b[0m\u001b[0;34m=\u001b[0m\u001b[0mFalse\u001b[0m\u001b[0;34m)\u001b[0m\u001b[0;34m\u001b[0m\u001b[0m\n",
      "\u001b[0;32m//anaconda/lib/python2.7/site-packages/sklearn/tree/tree.pyc\u001b[0m in \u001b[0;36mfit\u001b[0;34m(self, X, y, sample_weight, check_input, X_idx_sorted)\u001b[0m\n\u001b[1;32m    348\u001b[0m                                            max_leaf_nodes)\n\u001b[1;32m    349\u001b[0m \u001b[0;34m\u001b[0m\u001b[0m\n\u001b[0;32m--> 350\u001b[0;31m         \u001b[0mbuilder\u001b[0m\u001b[0;34m.\u001b[0m\u001b[0mbuild\u001b[0m\u001b[0;34m(\u001b[0m\u001b[0mself\u001b[0m\u001b[0;34m.\u001b[0m\u001b[0mtree_\u001b[0m\u001b[0;34m,\u001b[0m \u001b[0mX\u001b[0m\u001b[0;34m,\u001b[0m \u001b[0my\u001b[0m\u001b[0;34m,\u001b[0m \u001b[0msample_weight\u001b[0m\u001b[0;34m,\u001b[0m \u001b[0mX_idx_sorted\u001b[0m\u001b[0;34m)\u001b[0m\u001b[0;34m\u001b[0m\u001b[0m\n\u001b[0m\u001b[1;32m    351\u001b[0m \u001b[0;34m\u001b[0m\u001b[0m\n\u001b[1;32m    352\u001b[0m         \u001b[0;32mif\u001b[0m \u001b[0mself\u001b[0m\u001b[0;34m.\u001b[0m\u001b[0mn_outputs_\u001b[0m \u001b[0;34m==\u001b[0m \u001b[0;36m1\u001b[0m\u001b[0;34m:\u001b[0m\u001b[0;34m\u001b[0m\u001b[0m\n",
      "\u001b[0;31mKeyboardInterrupt\u001b[0m: "
     ]
    }
   ],
   "source": [
    "for i in m_features:\n",
    "    for j in depths:\n",
    "        RF = ensemble.RandomForestClassifier(n_estimators = N_ESTIMATORS, max_features = 10**i, max_depth = 10**j,\n",
    "                                             class_weight='balanced')\n",
    "        RF.fit(x_train,y_train)\n",
    "        score = RF.score(x_test[y_test==0],y_test[y_test==0])\n",
    "        print \"Max_Depth: \",10**j,\" Max_features: \",10**i, \" Score: \",score\n",
    "\n",
    "        "
   ]
  },
  {
   "cell_type": "code",
   "execution_count": 10,
   "metadata": {
    "collapsed": false
   },
   "outputs": [
    {
     "data": {
      "text/plain": [
       "RandomForestClassifier(bootstrap=True, class_weight='balanced',\n",
       "            criterion='gini', max_depth=10, max_features=1000,\n",
       "            max_leaf_nodes=None, min_samples_leaf=1, min_samples_split=2,\n",
       "            min_weight_fraction_leaf=0.0, n_estimators=75, n_jobs=1,\n",
       "            oob_score=True, random_state=None, verbose=0, warm_start=False)"
      ]
     },
     "execution_count": 10,
     "metadata": {},
     "output_type": "execute_result"
    }
   ],
   "source": [
    "MAX_DEPTH = 10  \n",
    "MAX_FEATURES = 1000 \n",
    "RF = ensemble.RandomForestClassifier(n_estimators = N_ESTIMATORS, max_features = MAX_FEATURES, max_depth = MAX_DEPTH,\n",
    "                                     oob_score =True, class_weight='balanced')\n",
    "RF.fit(x_train,y_train)"
   ]
  },
  {
   "cell_type": "code",
   "execution_count": 96,
   "metadata": {
    "collapsed": false
   },
   "outputs": [
    {
     "name": "stdout",
     "output_type": "stream",
     "text": [
      "0.783643271346\n",
      "0.780952380952\n",
      "0.784451378055\n",
      "[u'great' u'best' u'bad' u'love' u'delicious' u'disappointed' u'ok'\n",
      " u'wonderful' u'excellent' u'thought' u'disappointing' u'perfect' u'didn'\n",
      " u'waste' u'smooth' u'weak' u'highly' u'terrible' u'worst' u'favorite'\n",
      " u'highly recommend' u'loves' u'yummy' u'okay' u'money' u'waste money'\n",
      " u'awful' u'like' u'amazing' u'taste' u'br br' u'did' u'received' u'guess'\n",
      " u'great product' u'horrible' u'just' u'nice' u'disappointment' u'thank']\n"
     ]
    }
   ],
   "source": [
    "print RF.score(x_test,y_test)\n",
    "print RF.score(x_test[y_test==0],y_test[y_test==0])\n",
    "print RF.score(x_test[y_test==1],y_test[y_test==1])\n",
    "print features[RF.feature_importances_.argsort()[-40:][::-1]]"
   ]
  },
  {
   "cell_type": "code",
   "execution_count": 97,
   "metadata": {
    "collapsed": false
   },
   "outputs": [
    {
     "data": {
      "text/plain": [
       "0.7690461907618477"
      ]
     },
     "execution_count": 97,
     "metadata": {},
     "output_type": "execute_result"
    }
   ],
   "source": [
    "len(y_test[y_test==1])/float(len(y_test))"
   ]
  },
  {
   "cell_type": "code",
   "execution_count": 11,
   "metadata": {
    "collapsed": false
   },
   "outputs": [],
   "source": [
    "#Useful Packages\n",
    "from sklearn.feature_extraction.text import TfidfVectorizer\n",
    "from sklearn.metrics.pairwise import linear_kernel\n",
    "from scipy.spatial.distance import cosine\n",
    "from scipy.cluster.vq import vq,kmeans,whiten\n",
    "import time\n",
    "\n",
    "tf = TfidfVectorizer(analyzer='word',ngram_range=(1, 3), min_df=0, stop_words='english')\n",
    "tfidf_matrix = tf.fit_transform(text)\n",
    "x = tfidf_matrix.toarray()\n",
    "features = tf.get_feature_names() \n",
    "features = np.array(features)\n"
   ]
  },
  {
   "cell_type": "code",
   "execution_count": null,
   "metadata": {
    "collapsed": false
   },
   "outputs": [],
   "source": [
    "new_y = relevant.Sentiment.values\n",
    "perm = np.random.permutation(len(y))\n",
    "train = perm[0:5000]\n",
    "test = perm[5000:]\n",
    "x_train = x[train]\n",
    "x_test = x[test]\n",
    "y_train = new_y[train]\n",
    "y_test= new_y[test]"
   ]
  },
  {
   "cell_type": "code",
   "execution_count": null,
   "metadata": {
    "collapsed": true
   },
   "outputs": [],
   "source": [
    "MAX_DEPTH = 10  \n",
    "MAX_FEATURES = 1000 \n",
    "RF = ensemble.RandomForestClassifier(n_estimators = N_ESTIMATORS, max_features = MAX_FEATURES, max_depth = MAX_DEPTH,\n",
    "                                     oob_score =True, class_weight='balanced')\n",
    "RF.fit(x_train,y_train)"
   ]
  }
 ],
 "metadata": {
  "kernelspec": {
   "display_name": "Python [Root]",
   "language": "python",
   "name": "Python [Root]"
  },
  "language_info": {
   "codemirror_mode": {
    "name": "ipython",
    "version": 2
   },
   "file_extension": ".py",
   "mimetype": "text/x-python",
   "name": "python",
   "nbconvert_exporter": "python",
   "pygments_lexer": "ipython2",
   "version": "2.7.11"
  }
 },
 "nbformat": 4,
 "nbformat_minor": 0
}
